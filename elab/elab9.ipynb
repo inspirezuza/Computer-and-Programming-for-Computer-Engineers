{
  "nbformat": 4,
  "nbformat_minor": 0,
  "metadata": {
    "colab": {
      "provenance": [],
      "authorship_tag": "ABX9TyODaPSqesFCzevgUui3KsXX",
      "include_colab_link": true
    },
    "kernelspec": {
      "name": "python3",
      "display_name": "Python 3"
    },
    "language_info": {
      "name": "python"
    }
  },
  "cells": [
    {
      "cell_type": "markdown",
      "metadata": {
        "id": "view-in-github",
        "colab_type": "text"
      },
      "source": [
        "<a href=\"https://colab.research.google.com/github/sorrawutzuza/elabcpe113cheating/blob/main/elab/elab9.ipynb\" target=\"_parent\"><img src=\"https://colab.research.google.com/assets/colab-badge.svg\" alt=\"Open In Colab\"/></a>"
      ]
    },
    {
      "cell_type": "markdown",
      "source": [
        "#Lab 09 113 sec1-1/2022"
      ],
      "metadata": {
        "id": "w79UkC9qucMG"
      }
    },
    {
      "cell_type": "markdown",
      "source": [
        "##01 123454321\n",
        "12345321\n",
        "จงเขียนฟังก์ขัน printit(m, n) ซึ่งจะพิมพ์ตัวเลข m, m+1, m+2, ..., n-2, n-1, n, n-1, n-2, ..., m+2, m+1, m โดยไม่ต้องมีช่องว่างขั้นระหว่างตัวเลข ในการเขียนฟังก์ชันนี้คุณจะต้องใช้เทคนิคการเขียนโปรแกรมแบบรีเคอร์ซีฟ\n",
        "\n",
        "อนึ่ง เลข m และ n ที่ฟังก์ชันรับจะสอดคล้องกับเงื่อนไข m <= n เสมอ ฉะนั้นคุณไม่ต้องกังวลว่าข้อมูลเข้าจะไม่ถูกต้อง\n",
        "```\n",
        "ตัวอย่าง\n",
        "เมื่อเรียก printit(3,6) โปรแกรมควรจะพิมพ์ข้อความ\n",
        "\n",
        "3456543\n",
        "เมื่อเรียก printit(8,11) โปรแกรมควรจะพิมพ์ข้อความ\n",
        "\n",
        "8910111098\n",
        "เมื่อเรียก printit(0,5) โปรแกรมควรจะพิมพ์ข้อความ\n",
        "\n",
        "01234543210\n",
        "```\n",
        "```\n",
        "def printit(m, n):\n",
        "  YOUR CODE HERE\n",
        "```"
      ],
      "metadata": {
        "id": "sCMf-zuuuch1"
      }
    },
    {
      "cell_type": "code",
      "execution_count": null,
      "metadata": {
        "id": "7-069k8IuZxD"
      },
      "outputs": [],
      "source": [
        "def printit(m, n):    \n",
        "  if m==n:\n",
        "      print(m,end=\"\")\n",
        "      return\n",
        "  print(m,end=\"\")\n",
        "  printit(m+1,n)\n",
        "  print(m,end=\"\")"
      ]
    },
    {
      "cell_type": "markdown",
      "source": [
        "#02 Count Vowels\n",
        "Count Vowels\n",
        "จงเขียนฟังก์ชัน count_vowel(word) ซึ่งรับสตริง word เข้ามา แล้วนับจำนวนสระภาษาอังกฤษทั้งหมด โดยสระประกอบด้วยตัวอักขระ a, e, i, o, u โดยให้นับทั้งตัวอักขระเล็กและใหญ่\n",
        "\n",
        "หมายเหตุห้ามใช้คำสั่ง count ในไพตอน และโปรแกรมของคุณจะต้องใช้เทคนิคการเขียนโปรแกรมแบบรีเคอร์ซีฟ (recursive)\n",
        "\n",
        "ตัวอย่างการทำงาน\n",
        "```\n",
        ">>> count_vowel('hello')\n",
        "2\n",
        ">>> count_vowel('CAT rat DOG')\n",
        "3\n",
        "```"
      ],
      "metadata": {
        "id": "yx4LIdhbu39C"
      }
    },
    {
      "cell_type": "code",
      "source": [
        "def count_vowel(s):\n",
        "    if len(s) == 1:\n",
        "        return 1 if s.lower() in ['a','e','i','o','u'] else 0\n",
        "    else:\n",
        "        return 1 + count_vowel(s[1:]) if s[0].lower() in ['a','e','i','o','u'] else 0 + count_vowel(s[1:])\n"
      ],
      "metadata": {
        "id": "JpHFrUgRu80N"
      },
      "execution_count": null,
      "outputs": []
    },
    {
      "cell_type": "markdown",
      "source": [
        "##03 พิมพ์สามเหลี่ยม\n",
        "พิมพ์สามเหลี่ยม\n",
        "จงเขียนฟังก์ชัน tri(n) แบบรีเคอร์ซีฟ เพื่อพิมพ์สามเหลี่ยมขนาด n โดยที่ \n",
        "n\n",
        "≥\n",
        "1\n",
        " ตามตัวอย่าง\n",
        "```\n",
        "ตัวอย่างที่ 1\n",
        "เมื่อเรียก tri(1)\n",
        "\n",
        "x\n",
        "ตัวอย่างที่ 2\n",
        "เมื่อเรียก tri(2)\n",
        "\n",
        "x\n",
        "xx\n",
        "ตัวอย่างที่ 3\n",
        "เมื่อเรียก tri(3)\n",
        "\n",
        "x\n",
        "xx\n",
        "xxx\n",
        "ตัวอย่างที่ 4\n",
        "เมื่อเรียก tri(4)\n",
        "\n",
        "x\n",
        "xx\n",
        "xxx\n",
        "xxxx\n",
        "ตัวอย่างที่ 5\n",
        "เมื่อเรียก tri(5)\n",
        "\n",
        "x\n",
        "xx\n",
        "xxx\n",
        "xxxx\n",
        "xxxxx\n",
        "```\n",
        "```\n",
        "def tri(n):\n",
        "  YOUR CODE HERE\n",
        "```\n"
      ],
      "metadata": {
        "id": "COyOIdMDu-BE"
      }
    },
    {
      "cell_type": "code",
      "source": [
        "def tri(n):\n",
        "  if n==0: return\n",
        "  tri(n-1)\n",
        "  print(\"x\"*n)\n"
      ],
      "metadata": {
        "id": "IQR9WLURvE2T"
      },
      "execution_count": null,
      "outputs": []
    },
    {
      "cell_type": "markdown",
      "source": [
        "##04 นับจำนวนตัวอักษรในสตริง\n",
        "นับจำนวนตัวอักษรในสตริง\n",
        "จงเขียนฟังก์ชัน count(word, ch, result) เพื่อนับจำนวนตัวอักษร ch ในสตริง word และเก็บผลลัพธ์ไว้ใน result โปรแกรมของคุณต้องใช้เทคนิคการเขียนโปรแกรมแบบรีเคอร์ซีฟ\n",
        "```\n",
        "ตัวอย่างที่ 1\n",
        "count(\"aaa\", \"a\", 0) ควรคืน 3 เป็นคำตอบ\n",
        "\n",
        "ตัวอย่างที่ 2\n",
        "count(\"abcdef\", \"b\", 0) ควรคืน 1 เป็นคำตอบ\n",
        "\n",
        "ตัวอย่างที่ 3\n",
        "count(\"abababaab\", \"c\", 0) ควรคืน 0 เป็นคำตอบ\n",
        "```\n",
        "```\n",
        "def count(word, ch, result):\n",
        "  YOUR CODE HERE\n",
        "\n",
        "word = input()\n",
        "ch = input()\n",
        "print(count(word, ch, 0))\n",
        "```"
      ],
      "metadata": {
        "id": "C-DGDfzCvHz1"
      }
    },
    {
      "cell_type": "code",
      "source": [
        "def count(word, ch, result):\n",
        "  if len(word) == 1:\n",
        "      if word == ch: return result+1\n",
        "      else: return result\n",
        "  elif word[0] == ch:\n",
        "      return count(word[1:],ch,result+1)\n",
        "  else:\n",
        "      return count(word[1:],ch,result)\n",
        "\n",
        "\n",
        "word = input()\n",
        "ch = input()\n",
        "print(count(word, ch, 0))"
      ],
      "metadata": {
        "id": "g6DEaLdGvPvY"
      },
      "execution_count": null,
      "outputs": []
    },
    {
      "cell_type": "markdown",
      "source": [
        "##05 2 4 6 8 10 12 Result: FAILED [------]\n",
        "ผิดตรงไหนวะ งง\n",
        "Result Explanation\n",
        "Test #\tResult\tMeaning\tInput\tHint\n",
        "1\t-\tFailed\t\t\n",
        "2\t-\tFailed\t\t\n",
        "3\t-\tFailed\t\t\n",
        "4\t-\tFailed\t\t\n",
        "5\t-\tFailed\t\t\n",
        "6\t-\tFailed\t\n",
        "2 4 6 8 10 12\n",
        "จงเขียนฟังก์ชัน divnums(n, d) ที่คืนสตริงที่ประกอบด้วยตัวเลขทั้งหมดตั้งแต่ 1 ถึง n ที่หารด้วย d ลงตัว โดยเลขแต่ละตัวจะมีช่องว่าง (space) ตามทั้งท้ายหนึี่งช่องเสมอ คุณจะต้องใช้เทคนิคการเขียนโปรแกรมแบบรีเคอร์ซีฟในการแก้ปัญหาข้อนี้\n",
        "\n",
        "เลข n และ d ซึ่งโปรแกรมรับเข้ามาเป็นเลขจำนวนเต็มบวกเสมอ ฉะนั้นไม่ต้องกังวลว่าข้อมูลเข้าจะผิด\n",
        "```\n",
        "ตัวอย่าง\n",
        ">>> divnums(10,3)\n",
        "'3 6 9 '\n",
        ">>> divnums(100, 25)\n",
        "'25 50 75 100 '\n",
        "```"
      ],
      "metadata": {
        "id": "IY-aB8okvStk"
      }
    },
    {
      "cell_type": "code",
      "source": [
        "def divnums(n,d):\n",
        "    if n == 0:\n",
        "        return ''\n",
        "    if n%d == 0:\n",
        "        return divnums(n-1,d) + f'{n} ' \n",
        "    else:\n",
        "        return divnums(n-1,d)"
      ],
      "metadata": {
        "id": "9P70jDtsvgVO"
      },
      "execution_count": null,
      "outputs": []
    },
    {
      "cell_type": "markdown",
      "source": [
        "##06 Reverse String\n",
        "Reverse String\n",
        "จงเขียนฟังก์ชัน reverse_string(s) เพื่อรับพารามิเตอร์ที่เป็นสตริงค์ s และคืนค่าเป็นสตริงค์ใหม่ที่ถูกกลับหน้าเป็นหลัง\n",
        "\n",
        "ห้ามใช้ฟังก์ชัน reverse() ที่มีอยู่แล้วในไพตอน ต้องใช้เทคนิคการเขียนโปรแกรมแบบรีเคอร์ซีฟ (recursive) เท่านั้น นิสิตจะไม่ได้คะแนนใด ๆ หากนิสิตไม่ใช้การโปรแกรมแบบรีเคอร์ซีฟ ถึงแม้โปรแกรมจะทำงานได้ถูกต้องก็ตาม\n",
        "```\n",
        "ตัวอย่างการทำงาน\n",
        ">>> reverse_string('hello')\n",
        "olleh\n",
        ">>> reverse_string('h')\n",
        "h\n",
        "```\n",
        "```\n",
        "def reverse_string(s):\n",
        "  YOUR CODE HERE\n",
        "```"
      ],
      "metadata": {
        "id": "ZIfo-lcevgt2"
      }
    },
    {
      "cell_type": "code",
      "source": [
        "def reverse_string(s):\n",
        "  if len(s) == 1:\n",
        "      return s\n",
        "  return reverse_string(s[1:]) + s[0]\n"
      ],
      "metadata": {
        "id": "BBogFNBUvlhU"
      },
      "execution_count": null,
      "outputs": []
    },
    {
      "cell_type": "markdown",
      "source": [
        "##07 palindrome\n",
        "palindrome\n",
        "palindrome คือคำที่อ่านจากซ้ายไปขวาหรือขวาไปซ้ายได้ผลเหมือนกัน\n",
        "\n",
        "จงเขียนฟังก์ชัน is_palindrome(word) เพื่อรับสตริง word และตรวจสอบว่า word เป็น palindrome หรือไม่ โดยฟังก์ชัน is_palindrome(word) จะคืนค่าดังนี้\n",
        "\n",
        "True ถ้าสตริงเป็น palindrome\n",
        "False ถ้าสตริงไม่เป็น palindrome\n",
        "โปรแกรมของคุณจะต้องใช้เทคนิคการเขียนโปรแกรมแบบรีเคอร์ซีฟ (recursive)\n",
        "```\n",
        "ตัวอย่าง\n",
        ">>> is_palindrome('hello')\n",
        "False\n",
        ">>> is_palindrome('redder')\n",
        "True\n",
        ">>> is_palindrome('kayak')\n",
        "True\n",
        ">>> is_palindrome('a')\n",
        "True\n",
        ">>> is_palindrome('')\n",
        "True\n",
        "```\n",
        "```\n",
        "def is_palindrome(word):\n",
        "  YOUR CODE HERE\n",
        "```"
      ],
      "metadata": {
        "id": "XoiMEZRyvsew"
      }
    },
    {
      "cell_type": "code",
      "source": [
        "def is_palindrome(word):\n",
        "  if word == '' or len(word) == 1:\n",
        "    return True\n",
        "  elif word[-1] == word[0]:\n",
        "      return is_palindrome(word[1:-1])\n",
        "  return False"
      ],
      "metadata": {
        "id": "JRHVHCecvvnP"
      },
      "execution_count": null,
      "outputs": []
    },
    {
      "cell_type": "markdown",
      "source": [
        "##08 Count Even\n",
        "Count Even\n",
        "จงเขียนฟังก์ชัน count_even(lst) ซึ่งรับพารามิเตอร์เป็นลิสต์ที่เก็บตัวเลขจำนวนเต็ม และคืนค่าเป็นจำนวนตัวเลขที่เป็นเลขคู่เท่านั้น\n",
        "\n",
        "หมายเหตุ ห้ามใช้คำสั่ง count ในลิสต์ แฃะโปรแกรมของคุณจะต้องใช้เทคนิคการเขียนโปรแกรมแบบรีเคอร์ซีฟ (recursive)\n",
        "```\n",
        "ตัวอย่างการทำงาน\n",
        "\n",
        ">>> count_even([8])\n",
        "1\n",
        ">>> count_even([1,2,3,5,2,2,10])\n",
        "4\n",
        ">>> count_even([1,7])\n",
        "0\n",
        "```"
      ],
      "metadata": {
        "id": "qqYQahC0v-aI"
      }
    },
    {
      "cell_type": "code",
      "source": [
        "def count_even(lst):\n",
        "    if lst == []: return 0\n",
        "    if lst[0]%2 == 0:\n",
        "        lst.pop(0)\n",
        "        return 1 + count_even(lst)\n",
        "    else:\n",
        "        lst.pop(0)\n",
        "        return 0 +count_even(lst)"
      ],
      "metadata": {
        "id": "sUhTN_uDwBNv"
      },
      "execution_count": null,
      "outputs": []
    },
    {
      "cell_type": "markdown",
      "source": [
        "##09 In List\n",
        "In List\n",
        "จงเขียนฟังก์ชัน in_list(lst, x) เพื่อตรวจสอบว่าพารามิเตอร์ x อยู่ในพารามิเตอร์ lst ที่เป็นลิสต์หรือไม่ ถ้า x อยู่ใน lst ให้คืนค่า True และถ้า x ไม่อยู่ใน lst ให้คืนค่า False\n",
        "\n",
        "หมายเหตุห้ามใช้คำสั่ง in ในไพตอน และโปรแกรมของคุณจะต้องใช้เทคนิคการเขียนโปรแกรมแบบรีเคอร์ซีฟ (recursive)\n",
        "```\n",
        "ตัวอย่างการทำงาน\n",
        " \n",
        ">>> in_list([1, 2, 3], 2)\n",
        "True\n",
        ">>> in_list(['a', 'b', 'c'], 'a')\n",
        "True\n",
        ">>> in_list([1, 2, 3], 8)\n",
        "False\n",
        "```\n"
      ],
      "metadata": {
        "id": "FjvBujaTwCzr"
      }
    },
    {
      "cell_type": "code",
      "source": [
        "def in_list(lst, x):\n",
        "    # print(lst)\n",
        "    if lst == []: return False\n",
        "    if lst[0] == x:\n",
        "        return True\n",
        "    else:\n",
        "        lst.pop(0)\n",
        "        return in_list(lst, x)"
      ],
      "metadata": {
        "id": "eayLwwHMwF9Z"
      },
      "execution_count": null,
      "outputs": []
    },
    {
      "cell_type": "markdown",
      "source": [
        "##10 หารากที่สาม Result: FAILED [------]\n",
        "Test #\tResult\tMeaning\tInput\tHint\n",
        "1\t-\tFailed\t\t\n",
        "2\t-\tFailed\t\t\n",
        "3\t-\tFailed\t\t\n",
        "4\t-\tFailed\t\t\n",
        "5\t-\tFailed\t\t\n",
        "6\t-\tFailed\t\n",
        "การประมาณค่ารากที่สามด้วยวิธีของนิวต้น\n",
        "การประมาณค่าที่สามด้วยวิธีของนิวตินมีลักษณะคล้ายกับการประมาณค่ารากที่สองด้วยวิธีของนิวตัน กล่าวคือหาก \\(x\\) เป็นค่าประมาณของรากที่สามของ \\(y\\) แล้ว\n",
        "\n",
        "\\[\\frac{y/x^2 + 2x}{3}\\]\n",
        "จะเป็นค่าประมาณของรากที่สามของ \\(y\\) ที่ดียิ่งขึ้น\n",
        "จงเขียนฟังก์ชัีน newton_cuberoot(x,y) ซึ่งหาค่าประมาณรากที่สามของ \\(y > 0\\) โดยใช้ x เป็นค่าประมาณเริ่มต้น ฟังก์ชันจะต้องคืนค่าประมาณรากที่สาม \\(x\\) ที่ทำให้ \\(| x^3 - y | \\leq 10^{-6}\\)\n",
        "\n",
        "คุณจะต้องใช้เทคนิคการเขียนโปรแกรมแบบรีเคอร์ซีฟในการแก้ปัญหาข้อนี้\n",
        "\n",
        "```\n",
        "def newton_cuberoot(x,y):\n",
        "  YOUR CODE HERE\n",
        "\n",
        "def cuberoot(y):\n",
        "  return newton_cuberoot(1.0, y)\n",
        "```"
      ],
      "metadata": {
        "id": "hRNwiUrywHem"
      }
    },
    {
      "cell_type": "code",
      "source": [
        "def newton_cuberoot(x,y):\n",
        "if abs(x**3-y) <= 10**-6:\n",
        "    return x\n",
        "else:\n",
        "    return newton_cuberoot((y/x**2 + 2*x)/3, y)\n",
        "\n",
        "\n",
        "def cuberoot(y):\n",
        "  return newton_cuberoot(1.0, y)"
      ],
      "metadata": {
        "id": "_IBL9b3YwLG_"
      },
      "execution_count": null,
      "outputs": []
    },
    {
      "cell_type": "markdown",
      "source": [
        "##11 Sum Square\n",
        "Sum Square\n",
        "จงเขียนฟังก์ชัน sumsquare(n) เพื่อคำนวณผลรวมของค่ากำลังสอง ตั้งแต่ 1 ถึง n เช่น\n",
        "sum_square(1) จะเท่ากับ 1 sumsquare(2) จะเท่ากับ 1 + 2^2 = 5 * sum_square(4) จะเท่ากับ 1 + 2^2 + 3^2 + 4^2 = 30\n",
        "\n",
        "หมายเหตุ โปรแกรมของคุณจะต้องใช้เทคนิคการเขียนโปรแกรมแบบรีเคอร์ซีฟ (recursive)\n",
        "```\n",
        "ตัวอย่างการทำงาน\n",
        " \n",
        ">>> sum_square(1)\n",
        "1\n",
        ">>> sum_square(2)\n",
        "5\n",
        ">>> sum_square(4)\n",
        "30\n",
        "```"
      ],
      "metadata": {
        "id": "lH_8eerOwZLJ"
      }
    },
    {
      "cell_type": "code",
      "source": [
        "def sum_square(n):\n",
        "    return n**2 + sum_square(n-1) if n > 0 else 0"
      ],
      "metadata": {
        "id": "1txZM0gDwb1P"
      },
      "execution_count": null,
      "outputs": []
    },
    {
      "cell_type": "markdown",
      "source": [
        "##14 ฟังก์ชันยกกำลังแบบรีเคอร์ซีฟ\n",
        "งก์ชันยกกำลังแบบรีเคอร์ซีฟ\n",
        "เราสามารถเขียนฟังก์ชันการยกกำลังด้วยนิยามดังต่อไปนี้ เมื่อ k เป็นจำนวนเต็มบวกหรือศูนย์และ n เป็นจำนวนเต็มใดๆ\n",
        "\n",
        "\\[n^k = \\begin{cases}\n",
        "1, & k = 0 \\\\\n",
        "n \\times n^{k-1}, & k > 0\n",
        "\\end{cases}\\]\n",
        "จงเขียนฟังก์ชันยกกำลังแบบ recursive\n",
        "```\n",
        "ตัวอย่าง\n",
        ">>> power(2,3)\n",
        "8\n",
        ">>> power(2,0)\n",
        "1\n",
        ">>> power(0,2)\n",
        "0\n",
        ">>> power(-2,3)\n",
        "-8\n",
        "```\n",
        "\n",
        "```\n",
        "def power(n, k):\n",
        "  YOUR CODE HERE\n",
        "```"
      ],
      "metadata": {
        "id": "s8qi9Yaqwdpz"
      }
    },
    {
      "cell_type": "code",
      "source": [
        "def power(n,k):\n",
        "  if k == 0: return 1\n",
        "  if k>0: return n*power(n,k-1)"
      ],
      "metadata": {
        "id": "u9XkX3IXwgZy"
      },
      "execution_count": null,
      "outputs": []
    },
    {
      "cell_type": "markdown",
      "source": [
        "##15 Flatten List (cloned)\n",
        "Flatten List\n",
        "จงเขียนฟังก์ชัน flatten_list(lst) เพื่อรับพารามิเตอร์ที่เป็นลิสต์ lst โดยลิสต์นี้อาจจะมีลิสต์ซ้อนอยู่ข้างในได้\n",
        "\n",
        "ฟังก์ชันนี้จะคืนค่าข้อมูลกลับเป็น list ตามตัวอย่าง\n",
        "```\n",
        "ตัวอย่าง\n",
        ">>> flatten_list([1, 3, 5, 7])\n",
        "[1, 3, 5, 7]\n",
        ">>> flatten_list([1, 2, [[2], [3, 4], 5], 4, [3], [[4]]])\n",
        "[1, 2, 2, 3, 4, 5, 4, 3, 4]\n",
        "```\n",
        "หมายเหตุ\n",
        "ฟังก์ชัน isinstance(obj, type) สามารถตรวจสอบได้ว่า obj เป็นข้อมูลชนิด type หรือไม่ เช่น การเรียกใช้ isinstance(\"abc\", str) จะคืนค่าเป็น True การเรียกใช้ isinstance([1, 2], list) จะคืนค่าเป็น True และการเรียกใช้ isinstance(1, list) จะคืนค่าเป็น False เป็นต้น"
      ],
      "metadata": {
        "id": "eOroeFumww28"
      }
    },
    {
      "cell_type": "code",
      "source": [
        "def gen_list(l):\n",
        "    for i in l:\n",
        "        if isinstance(i, list):\n",
        "            yield from gen_list(i)\n",
        "        else:\n",
        "            yield i\n",
        "\n",
        "def flatten_list(l):\n",
        "    return [i for i in gen_list(l)]"
      ],
      "metadata": {
        "id": "jbDuYsMAw1pY"
      },
      "execution_count": null,
      "outputs": []
    }
  ]
}