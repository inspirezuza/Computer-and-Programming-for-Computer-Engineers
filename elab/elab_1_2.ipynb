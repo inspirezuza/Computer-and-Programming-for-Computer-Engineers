{
  "nbformat": 4,
  "nbformat_minor": 0,
  "metadata": {
    "colab": {
      "provenance": [],
      "toc_visible": true
    },
    "kernelspec": {
      "name": "python3",
      "display_name": "Python 3"
    },
    "language_info": {
      "name": "python"
    }
  },
  "cells": [
    {
      "cell_type": "markdown",
      "source": [
        "#Lab 01 113 sec1-1/2022"
      ],
      "metadata": {
        "id": "Gg8Qapy1CL8B"
      }
    },
    {
      "cell_type": "markdown",
      "source": [
        "##06 L01 Shape\n",
        "[Shape] พื้นที่และเส้นรอบรูป\n",
        "เขียนโปรแกรมคำนวนหาพื้นที่และเส้นรอบรูปสี่เหลี่ยมผืนผ้า\n",
        "\n",
        ">>\n",
        "Example 1\\\n",
        "width : **10** \\\n",
        "length : **20**\\\n",
        "area : 200.0\\\n",
        "perimeter : 60.0\n",
        ">>\n",
        "Example 2\\\n",
        "width : **12.3**\\\n",
        "length : **21.4**\\\n",
        "area : 263.21999999999997\\\n",
        "perimeter : 67.4\n"
      ],
      "metadata": {
        "id": "6q-lasbZCN2k"
      }
    },
    {
      "cell_type": "code",
      "source": [
        "w = float(input(\"width : \"))\n",
        "l = float(input(\"length : \"))\n",
        "print(f\"area : {w*l}\")\n",
        "print(f\"perimeter : {w*2 + l*2}\")"
      ],
      "metadata": {
        "id": "3N2Kxy7ZDIPf"
      },
      "execution_count": null,
      "outputs": []
    },
    {
      "cell_type": "markdown",
      "source": [
        "##07 L01 Vat\n",
        "Vat\n",
        "เวลาเราไปร้านอาหารนั้น เราก็จะต้องจ่ายภาษีเพิ่มขึ้นจากค่าอาหารเดิมเป็นจำนวน 7% โดยที่เราก็ไม่รู้เลยว่าร้านอาหารนั้นคิดถูกหรือผิด\n",
        "\n",
        "เนื่องจากน้องๆเก่งทางด้านเขียนโปรแกรม พี่ๆจึงอยากให้น้องเขียนโปรแกรมรับจำนวนเงินที่รวมภาษีแล้ว\n",
        "\n",
        "นำมาคำนวณว่าในจำนวนเงินนั้นเป็นค่าอาหารจริงกี่บาท และภาษีกี่บาท\n",
        "\n",
        "ให้หาค่าภาษีจาก ภาษี = ราคารวมภาษี - ราคาไม่รวมภาษี\n",
        "\n",
        "เนื่องจากโจทย์ไม่สามารถ format float ได้ ขอให้น้องหาค่า ราคาไม่รวมภาษี จาก ราคา = ราคารวมภาษี /107 *100\n",
        ">>\n",
        "Example 1\\\n",
        "summary price : **107**\\\n",
        "food : 100.0\\\n",
        "vat : 7.0\n",
        ">>\n",
        "Example 2\\\n",
        "summary price : **3265**\\\n",
        "food : 3051.4018691588785\\\n",
        "vat : 213.59813084112147"
      ],
      "metadata": {
        "id": "TUJUP7RmJaEO"
      }
    },
    {
      "cell_type": "code",
      "source": [
        "price = float(input(\"summary price : \"))\n",
        "print(f\"food : {price/107*100}\")\n",
        "print(f\"vat : {price - price/107*100}\")"
      ],
      "metadata": {
        "id": "3DDWY1ZmN4MW"
      },
      "execution_count": null,
      "outputs": []
    },
    {
      "cell_type": "markdown",
      "source": [
        "##08 L01 Energy\n",
        "[Energy] การคำนวนพลังงาน\n",
        "การคำนวนพลังงานในแต่ละวันนั้นนั้นในความเป็นจริงแล้วมีสูตรที่ตายตัวอยู่\n",
        "นั่นก็คือ E = MC^2 ย่อมาจาก\n",
        "Energy = Milk * Coffee^2\n",
        ">>\n",
        "Example1\\\n",
        "Milk: **2**\\\n",
        "Coffee: **3**\\\n",
        "18\n",
        ">>\n",
        "Example2\\\n",
        "Milk: **3**\\\n",
        "Coffee: **7**\\\n",
        "147"
      ],
      "metadata": {
        "id": "0mdpRfB5NEkO"
      }
    },
    {
      "cell_type": "code",
      "source": [
        "M = int(input(\"Milk: \"))\n",
        "C = int(input(\"Coffee: \"))\n",
        "print(M*C**2)"
      ],
      "metadata": {
        "id": "EiQ0zbW6JaEQ"
      },
      "execution_count": null,
      "outputs": []
    },
    {
      "cell_type": "markdown",
      "source": [
        "## 09 L01 calculate\n",
        "[Mother Father] ถามหารเศษ\n",
        "พ่อแม่ของนายเขียวขจี ต้องการแบ่งเงินให้ลูกๆทั้งหมดเท่ากัน\n",
        "อยากรู้ว่า แต่ละคนได้เงินคนละเท่าไหร่ เศษเหลือเป็นเท่าไหร่\n",
        ">>\n",
        "Example1\\\n",
        "Money: 10\\\n",
        "Son: 2\\\n",
        "5 0\n",
        ">>\n",
        "Example2\\\n",
        "Money: 11\\\n",
        "Son: 2\\\n",
        "5 1"
      ],
      "metadata": {
        "id": "06NIKih2PVpX"
      }
    },
    {
      "cell_type": "code",
      "source": [
        "money = int(input(\"Money: \"))\n",
        "son = int(input(\"Son: \"))\n",
        "print(money//son, money%son)"
      ],
      "metadata": {
        "id": "euv9wXoCPdPt"
      },
      "execution_count": null,
      "outputs": []
    },
    {
      "cell_type": "markdown",
      "source": [
        "## 11 L01 How long\n",
        "[How long] เมื่อไหร่จะคืน\n",
        "น้องได้ทวงเพื่อนที่ยืมหนังสือไป 7 ปีแล้ว ไม่ยอมคืนสักที ซึ่งเพื่อนตอบกลับมา 3 ประโยคแล้วบอกว่า \"ขอยืมอีก ( ความยาวของประโยค 1 บวก ความยาวประโยค 2 จากนั้นคูณ ความยาวประโยค 3 ) ชั่วโมง\"\n",
        "\n",
        "น้องที่อยากรู้ว่าเมื่อไหร่จะได้หนังสือคืนจึงลองคำนวณตามที่เพื่อนบอก\n",
        "\n",
        "เว้นวรรคและสัญลักษณ์ต่างๆนับเป็นตัวอักษร 1 ตัว\n",
        ">>\n",
        "Example1\\\n",
        "First sentence: CPE\\\n",
        "Second sentence: 35\\\n",
        "Third sentence: Keep fighting!\\\n",
        "70\n",
        ">>\n",
        "Example2\\\n",
        "First sentence: Sinovac 3 dose\\\n",
        "Second sentence: nong nong\\\n",
        "Third sentence: Pfizer \\\n",
        "161"
      ],
      "metadata": {
        "id": "cmsRn3D9Ph2G"
      }
    },
    {
      "cell_type": "code",
      "source": [
        "sen1 = len(input(\"First sentence: \"))\n",
        "sen2 = len(input(\"Second sentence: \"))\n",
        "sen3 = len(input(\"Third sentence: \"))\n",
        "print((sen1 + sen2) * sen3)"
      ],
      "metadata": {
        "id": "ATCrNWgbPsaC"
      },
      "execution_count": null,
      "outputs": []
    },
    {
      "cell_type": "markdown",
      "source": [
        "## 12 L01 Datatype\n",
        "[Datatype] ขอเปลี่ยน Datatype หน่อย\n",
        "จงเขียนโปรแกรมรับค่าข้อความและตัวเลข จากนั้นนำเลขไปบวก 44.112 แล้วแสดงผลดังตัวอย่าง\n",
        "\n",
        "สร้างตัวแปรได้เพียง 2 ตัว\n",
        "\n",
        "ไม่อนุญาตให้ใช้ String Format ทุกรูปแบบ\n",
        "\n",
        "Example1\n",
        "Input text: KU\n",
        "Input number: 81\n",
        "I can print string with another datatype like this -> KU 125.112\n",
        "Example2\n",
        "Input text: MyText\n",
        "Input number: 123.4567\n",
        "I can print string with another datatype like this -> MyText 167.5687"
      ],
      "metadata": {
        "id": "npRKSQpVQZAt"
      }
    },
    {
      "cell_type": "code",
      "source": [
        "text = input(\"Input text: \")\n",
        "num = float(input(\"Input number: \"))\n",
        "print(f\"I can print string with another datatype like this -> {text} {num+44.112}\")"
      ],
      "metadata": {
        "id": "aG8jbwCDghfp"
      },
      "execution_count": null,
      "outputs": []
    },
    {
      "cell_type": "markdown",
      "source": [
        "## 14 L01 นักซิ่ง\n",
        "นักซิ่ง\n",
        "ณ ถนนเส้นหนึ่งในประเทศไทย มีรถนักซิ่งขับอยู่บนถนน 2 คัน คนแรกขับรถสปอร์ตหรูสีแดง ชื่อว่าเล็ก คนที่สองขับรถบรรทุกแต่งซิ่งควันดำ ชื่อว่าใหญ่ โดยเล็กขับรถด้วยความเร็ว A กม./ชม. และใหญ่ขับรถด้วยความเร็ว B กม./ชม. โดยที่ใหญ่จะขับรถเร็วกว่าเล็กเสมอ (B>A)\n",
        "\n",
        "ทั้ง 2 คนขับรถออกจากปั้มน้ำมันพร้อมกัน จงหาว่าเมื่อใหญ่ขับรถไปได้ระยะทาง X กม.แล้วหยุดรถรอเล็ก จะต้องรอเล็กกี่วินาที เล็กถึงจะตามมาทัน\n",
        "\n",
        "รับประกันว่า X หารด้วย A และ B ลงตัว\n",
        "\n",
        "Example1\n",
        "A : 40\n",
        "B : 60\n",
        "X : 120\n",
        "Wait : 3600 sec\n",
        "Example2\n",
        "A : 15\n",
        "B : 160\n",
        "X : 480\n",
        "Wait : 104400 sec\n",
        "Example3\n",
        "A : 300\n",
        "B : 350\n",
        "X : 12600\n",
        "Wait : 21600 sec\n"
      ],
      "metadata": {
        "id": "Zvm7rrdZglNV"
      }
    },
    {
      "cell_type": "code",
      "source": [
        "A = int(input(\"A : \"))\n",
        "B = int(input(\"B : \"))\n",
        "X = int(input(\"X : \"))\n",
        "print(f\"Wait : {int((X - A*X/B) / A * 3600)} sec\")\n"
      ],
      "metadata": {
        "id": "ogeBWdD_gxXZ"
      },
      "execution_count": null,
      "outputs": []
    },
    {
      "cell_type": "markdown",
      "source": [
        "## 15 L01 full_divide\n",
        "[full_divide] เพิ่มความกล้าหาญ\n",
        "เขียนโปรแกรมที่รับค่าตัวตั้งและตัวหาร เพื่อแสดงผลการหารในรูปของผลหารและเศษ\n",
        "    ตัวตั้ง = ตัวหาร * ผลหาร + เศษ\n",
        "\n",
        "Example1\n",
        "Input Dividend: 73\n",
        "Input Divider: 9\n",
        "73 = 9 * 8 + 1\n",
        "Example2\n",
        "Input Dividend: 111\n",
        "Input Divider: 3\n",
        "111 = 3 * 37 + 0"
      ],
      "metadata": {
        "id": "cN4_kLFggx64"
      }
    },
    {
      "cell_type": "code",
      "source": [
        "dend = int(input(\"Input Dividend: \"))\n",
        "der = int(input(\"Input Divider: \"))\n",
        "print(f\"{dend} = {der} * {dend//der} + {dend%der}\")"
      ],
      "metadata": {
        "id": "CW8rPJAWg3kB"
      },
      "execution_count": null,
      "outputs": []
    },
    {
      "cell_type": "markdown",
      "source": [
        "##16 L01 waiting\n",
        "[Waiting] เมื่อไรจะได้พบเธอ\n",
        "เมื่อไรจะได้พบเธอ... เวลา x นาฬิกา เขายังคงนั่งรอเธออยู่ที่สวนสาธารณะเช่นเดิมจนถึงเวลาที่จะได้พบเธอ หากเขาตั้งใจว่าเขาจะรออีก y ชั่วโมงแล้วจะได้พบเธอ อยากทราบว่าเธอจะมาถึงที่สวนสาธารณะเวลากี่โมง\n",
        "\n",
        "หมายเหตุ x เป็นจำนวนเต็มที่ 0 ≤ x < 24\n",
        "\n",
        "Example 1\n",
        "x: 14\n",
        "y: 51\n",
        "She comes at 17:00\n",
        "Example 2\n",
        "x: 20\n",
        "y: 37\n",
        "She comes at 9:00"
      ],
      "metadata": {
        "id": "psvvm18-g5UF"
      }
    },
    {
      "cell_type": "code",
      "source": [
        "x = int(input(\"x: \"))\n",
        "y = int(input(\"y: \"))\n",
        "print(f\"She comes at {(x+y)%24}:00\")"
      ],
      "metadata": {
        "id": "y5YvajVJg9jn"
      },
      "execution_count": null,
      "outputs": []
    },
    {
      "cell_type": "markdown",
      "source": [
        "\n",
        "##17 L01 heart function\n",
        "[Heart func] ให้ใจเราตรงกัน\n",
        "เขียนโปรแกรมที่รับค่า x,y และนำไปคำนวณพร้อมทั้งแสดงผลลัพธ์ของค่าที่ได้จากฟังก์ชันที่กำหนด     \n",
        "f\n",
        "(\n",
        "x\n",
        ",\n",
        "y\n",
        ")\n",
        "=\n",
        "(\n",
        "x\n",
        "2\n",
        "+\n",
        "y\n",
        "2\n",
        "−\n",
        "1\n",
        ")\n",
        "3\n",
        "−\n",
        "x\n",
        "2\n",
        "y\n",
        "3\n",
        "Example 1\n",
        "x: 2\n",
        "y: 3\n",
        "Result is 1620.00\n",
        "Example 2\n",
        "x: 5.7\n",
        "y: 4.2\n",
        "Result is 116180.76"
      ],
      "metadata": {
        "id": "06b4PxDZg_X6"
      }
    },
    {
      "cell_type": "code",
      "source": [
        "x = float(input(\"x: \"))\n",
        "y = float(input(\"y: \"))\n",
        "print(f\"Result is {(x**2 + y**2 - 1)**3 - (x**2 * y**3):.2f}\")"
      ],
      "metadata": {
        "id": "4ZlsaBOHhPSv"
      },
      "execution_count": null,
      "outputs": []
    },
    {
      "cell_type": "markdown",
      "source": [
        "##18 L01 interest\n",
        "[interest] เก็บตังค์ไว้ขอเธอ\n",
        "เขียนโปรเเกรมเพื่อเเสดงเงินสุทธิที่ได้จากการฝากธนาคารแสดงเป็นทศนิยม 2 ตำแหน่ง ซึ่งสามารถคำนวณได้จากสูตรข้างล่างนี้\n",
        "\n",
        "    \n",
        "A\n",
        "=\n",
        "P\n",
        "(\n",
        "1\n",
        "+\n",
        "r\n",
        "/\n",
        "n\n",
        ")\n",
        "n\n",
        "t\n",
        "เมื่อ P คือเงินตั้งต้น\n",
        "    r คืออัตราดอกเบี้ย\n",
        "    n คือจำนวนครั้งการจ่ายดอกเบี้ยทบต่อต่อปี\n",
        "    t เป็นจำนวนปี\n",
        "\n",
        "Example1\n",
        "Input principal amount (P): 10000\n",
        "Input annual nominal interest rate (r): 0.08\n",
        "Input # of times the interest is compounded per year (n): 12\n",
        "Input # of years (t): 10\n",
        "Final amount: 22196.40\n",
        "Example2\n",
        "Input principal amount (P): 50000\n",
        "Input annual nominal interest rate (r): 0.1\n",
        "Input # of times the interest is compounded per year (n): 6\n",
        "Input # of years (t): 2\n",
        "Final amount: 60969.55"
      ],
      "metadata": {
        "id": "gl9e80eHhRbo"
      }
    },
    {
      "cell_type": "code",
      "source": [
        "P = float(input(\"Input principal amount (P): \"))\n",
        "r = float(input(\"Input annual nominal interest rate (r): \"))\n",
        "n = float(input(\"Input # of times the interest is compounded per year (n): \"))\n",
        "t = float(input(\"Input # of years (t): \"))\n",
        "print(f\"Final amount: {P*(1+r/n)**(n*t):.2f}\") "
      ],
      "metadata": {
        "id": "Zs1CQUKFhaUm"
      },
      "execution_count": null,
      "outputs": []
    },
    {
      "cell_type": "markdown",
      "source": [
        "##19 L01 wood_used\n",
        "wood_used โรงงานไม้\n",
        "โรงงานเฟอร์นิเจอร์แห่งหนึ่งรับผลิตโต๊ะสองขนาดคือขนาดใหญ่และขนาดเล็ก\n",
        "โต๊ะขนาดใหญ่ใช้ไม้แผ่น 2 แผ่น และไม้ท่อน 6 ท่อน\n",
        "โต๊ะขนาดเล็กใช้ไม้แผ่น 1 แผ่น และไม้ท่อน 4 ท่อน\n",
        "โรงงานต้องผลิตโต๊ะใหญ่ M โต๊ะ และโต๊ะเล็ก N โต๊ะ จงเขียนโปรแกรมที่รับค่ M และ N จากผู้ใช้และคำนวณว่าโรงานจะต้องใช้ไม้ทั้งหมดกี่แผ่น และกี่ท่อน ตามลำดับ\n",
        "\n",
        "ข้อมูลเข้า\n",
        "มีหนึ่งบรรทัด เป็นตัวเลขจำนวนเต็มสองตัวคั่นด้วยช่องว่าง เลขตัวแรกคือ M ตัวที่สองคือ N\n",
        "โดยที M และ N มีค่าไม่น้อยกว่าศูนย์และไม่เกิน 1,000,000 นอกจากนี้ M และ N จะไม่เป็นศูนย์พร้อมกัน\n",
        "\n",
        "Example1\n",
        "M: 5 \n",
        "N: 0\n",
        "10 30\n",
        "Example2\n",
        "M: 7 \n",
        "N: 3\n",
        "17 54\n",
        "Example3\n",
        "M: 12 \n",
        "N: 20\n",
        "44 152"
      ],
      "metadata": {
        "id": "JmtsLmb_hcB4"
      }
    },
    {
      "cell_type": "code",
      "source": [
        "M = int(input('M: '))\n",
        "N = int(input('N: '))\n",
        "print(M*2 + N, M*6 + N*4)"
      ],
      "metadata": {
        "id": "pLVH8ERahfw7"
      },
      "execution_count": null,
      "outputs": []
    },
    {
      "cell_type": "markdown",
      "source": [
        "#Lab 02 113 sec1-1/2022"
      ],
      "metadata": {
        "id": "IgQTw1AehtKz"
      }
    },
    {
      "cell_type": "markdown",
      "source": [
        "## 01 L02 Mini_Heart\n",
        "[Mini_Heart] เสียงหัวใจตึกตัก\n",
        "14 กุมภาพันธ์ วันวาเลนไทน์ Happy Valentine's Day น้องนนท์อยากทำการ์ดให้รุ่นพี่ที่แอบชอบจึงต้องการตัดกระดาษให้เป็นรูปหัวใจที่สวยงาม โดยที่รูปร่างของหัวใจทีน้องนนท์ตัดนั้นเป็นดังรูป\n",
        "\n",
        "<img src='https://cdn.discordapp.com/attachments/1032220696866213899/1032220846208598116/unknown.png' />\n",
        "\n",
        "จากรูปจะเป็นเหมือนรูปสี่เหลี่ยมจัตุรัส 1 อันที่มีครึ่งวงกลมอีก 2 อันวางไว้ด้านข้าง ซึ่งเป็นรูปหัวใจที่สมมาตร และด้วยความที่น้องนนท์นั้นเรียนอยู่คณะวิศวกรรมศาสตร์ จึงอยากจะคำนวณพื้นที่ของหัวใจที่น้องนนท์ตัดเล่นๆ ยิ่งไปกว่านั้น น้องนนท์ต้องการจะเขียนโปรแกรมบน IDLE และไม่อยากกดรันโค้ดบ่อยๆ เลยเขียนฟังก์ชั่นการคำนวนเพียงใส่แค่ความยาวด้านของสี่เหลี่ยมจัตุรัสไป\n",
        "\n",
        "จงเขียนโปรแกรมแสดงพื้นที่ของหัวใจดังตัวอย่าง โดยค่าที่รับเข้าไปเป็นจำนวนเต็มที่หมายถึงความยาวด้าน L ของสี่เหลี่ยมจัตุรัส และภายในโปรแกรมจะต้องมีฟังก์ชั่น MiniHeart(x) ที่สามารถรันได้ใน Shell Mode\n",
        "\n",
        "Hint\n",
        "1.The area of a circle of radius r is \n",
        "π\n",
        "r\n",
        "2\n",
        ".\n",
        "\n",
        "2.import math\n",
        "\n",
        "3.def MiniHeart(x):\n",
        "\n",
        "Example 1\n",
        "Please enter the value of L: 5\n",
        "Area is 44.6350\n",
        "Example 2\n",
        "Please enter the value of L: 12\n",
        "Area is 257.0973\n",
        "Shell Mode เมื่อรันโปรแกรม\n",
        "Please enter the value of L: 5\n",
        "Area is 44.6350\n",
        ">>> MiniHeart(12)\n",
        "257.09733552923257\n",
        ">>> "
      ],
      "metadata": {
        "id": "W4iSF7Tuhvdm"
      }
    },
    {
      "cell_type": "code",
      "source": [
        "import math\n",
        "\n",
        "def MiniHeart(L):\n",
        "    return L*L + math.pi*(L/2)**2\n",
        "\n",
        "L = float(input(\"Please enter the value of L: \"))\n",
        "result = MiniHeart(L)\n",
        "print(f'Area is {result:.4f}')"
      ],
      "metadata": {
        "id": "YWP_zjv1ig8c"
      },
      "execution_count": null,
      "outputs": []
    },
    {
      "cell_type": "markdown",
      "source": [
        "## 02 L02 princess\n",
        "[princess] เจ้าหญิงนนนี่\n",
        " ณ บางเขนแลนด์ดินแดนมหัศจรรย์ มีเจ้าหญิงองค์หนึ่งนามว่า นนนี่ เจ้าหญิงนนนี่เป็นเจ้าหญิงขี้เหงา ที่อีกไม่กี่วันจะถึงวันขึ้นครองราชย์แล้วแต่ก่อนขึ้นครองราชย์เจ้าหญิงต้องหาคู่ครองเสียก่อน เจ้าหญิงจึงติดประกาศไปทั่วราชอาณาจักรทำให้มีคนมาต่อแถวเป็นจำนวนมาก เจ้าหญิงนนนี่จึงคิดคำถามที่ยากมากๆมาเพื่อมาถามคนที่มาต่อแถวทุกคนและด้วยความที่เจ้าหญิงขี้เกียจคิดคำตอบเองเธอจึงมาขอให้นิสิตช่วยเขียนโปรแกรมเพื่อเป็นเฉลยให้เธอ โดยเจ้าหญิงนนนี่ต้องการที่จะเขียนโปรแกรมบน IDLE และอยากให้สร้างฟังก์ชันการคำนวณโดยใส่แค่จำนวนวินาทีลงไป ดังนั้น เจ้าหญิงนนนี่จึงอยากให้นิสิตช่วยเขียนโปรแกรมที่รับค่าจำนวนวินาทีซึ่งเป็นจำนวนเต็ม แล้วแสดงจำนวนชั่วโมง นาทีและวินาทีดังตัวอย่างข้างล่าง โดยภายในโปรแกรมต้องมีฟังก์ชันที่ชื่อว่า caltime(x) ซึ่งสามารถรันได้ใน Shell Mode โดยจะมีการ return ค่าประกอบไปด้วยจำนวนชั่วโมง จำนวนนาที และจำนวนวินาที\n",
        "\n",
        "Example 1\n",
        "s: 1235\n",
        "1235 seconds equals 0 hour(s) 20 minute(s) and 35 second(s)\n",
        "Example 2\n",
        "s: 20456\n",
        "20456 seconds equals 5 hour(s) 40 minute(s) and 56 second(s)\n",
        "Shell Mode เมื่อรันโปรแกรม\n",
        ">>> caltime(20456)\n",
        "(5, 40, 56)\n",
        ">>> "
      ],
      "metadata": {
        "id": "y5P1XjE8ihhe"
      }
    },
    {
      "cell_type": "code",
      "source": [
        "def caltime(s):\n",
        "    h = s//3600\n",
        "    s %= 3600\n",
        "    \n",
        "    m = s//60\n",
        "    s %= 60\n",
        "    \n",
        "    return (h, m, s) \n",
        "\n",
        "s = int(input(\"s: \"))\n",
        "h,m,new_s = caltime(s)\n",
        "print(f\"{s} seconds equals {h} hour(s) {m} minute(s) and {new_s} second(s)\")"
      ],
      "metadata": {
        "id": "XMaqRKxxiwQ3"
      },
      "execution_count": null,
      "outputs": []
    },
    {
      "cell_type": "markdown",
      "source": [
        "##03 L02 duo_eater\n",
        "[duo_eater] สองสหายทลายอาหาร\n",
        "ปั้นกับเกนมักจะออกไปหาอะไรกินด้วยกันเสมอซึ่งการกินในแต่ละครั้งของทั้งคู่จะมีรูปแบบดังนี้\n",
        "    เมื่อได้รับอาหารมา S ส่วน ปั้นจะกินครั้งละ P ส่วน และจะกินไปเรื่อย ๆ จนกระทั่งเหลืออาหารไม่ถึง P ส่วน จากนั้นจะยกให้เกนกิน เกนจะกินครั้งละ G ส่วน และจะกินไปเรื่อย ๆ จนกระทั่งเหลืออาหารไม่ถึง G ส่วน ซึ่งจะนำอาหารที่เหลือนี้ไปให้สุนัขกิน\n",
        "จงเขียนโปรแกรมที่รับค่า S P และ G และแสดงผลว่าปั้นกินไปกี่ครั้ง เกนกินไปกี่ครั้ง และ เหลือหารหารให้สุนัขกี่ส่วน ซึ่งภายในโปรแกรมจะต้องมีฟังก์ชั่น eat(S,P,n) ที่สามารถรันได้ใน Shell Mode ซึ่งค่าที่ใส่เข้าไปในฟังก์ชันจะมีทั้งหมด 3 ค่า ได้แก่ ค่า S P และ G\n",
        "\n",
        "Example\n",
        "Input starting food (S): 197\n",
        "Input Paun's eating rate (P): 70\n",
        "Input Gane's eating rate (n): 11\n",
        "Paun eats 2 time(s)\n",
        "Gane eats 5 time(s)\n",
        "Remaining 2 for dog\n",
        "Shell Mode เมื่อรันโปรแกรม\n",
        ">>> eat(S=197,P=70,n=11)\n",
        "(2, 5, 2)\n",
        ">>> "
      ],
      "metadata": {
        "id": "LUPHj1pLipSS"
      }
    },
    {
      "cell_type": "code",
      "source": [
        "def eat(S,P,n):\n",
        "    return (S//P, (S%P)//n, (S%P)%n)\n",
        "\n",
        "S = int(input(\"Input starting food (S): \"))\n",
        "P = int(input(\"Input Paun's eating rate (P): \"))\n",
        "n = int(input(\"Input Gane's eating rate (n): \"))\n",
        "\n",
        "S,P,n = eat(S,P,n)\n",
        "\n",
        "print(f\"Paun eats {S} time(s)\")\n",
        "print(f\"Gane eats {P} time(s)\")\n",
        "print(f\"Remaining {n} for dog\")"
      ],
      "metadata": {
        "id": "L_TQitUfiulk"
      },
      "execution_count": null,
      "outputs": []
    },
    {
      "cell_type": "markdown",
      "source": [
        "## 04 L02 factor_theorem\n",
        "[factor_theorem] ขนาดทฤษฎียังเศษเหลือแล้วทำไมเกลือไม่หวาน\n",
        "เขียนโปรเเกรมรับค่าpแล้วหาเศษที่เหลือจากการหารสมการพหุนาม \n",
        "2\n",
        "x\n",
        "4\n",
        "−\n",
        "5\n",
        "x\n",
        "3\n",
        "−\n",
        "24\n",
        "x\n",
        "2\n",
        "−\n",
        "7\n",
        "x\n",
        "+\n",
        "10\n",
        " ด้วย x-p สามารถประยุกต์ใช้ความรู้เรื่องทฤษฎีบทเศษเหลือ link ซึ่งภายในโปรแกรมจะต้องมีฟังก์ชั่น fraction(x) ที่สามารถรันได้ใน Shell Mode\n",
        "\n",
        "Example1\n",
        "Input p: -1\n",
        "Fraction = 0\n",
        "Example2\n",
        "Input p: 0\n",
        "Fraction = 10\n",
        "Shell Mode เมื่อรันโปรแกรม\n",
        ">>> fraction(7)\n",
        "1872\n",
        ">>> "
      ],
      "metadata": {
        "id": "X6wNa2r5i67R"
      }
    },
    {
      "cell_type": "code",
      "source": [
        "def fraction(p):\n",
        "    return 2*p**4 - 5*p**3 - 24*p**2 - 7*p + 10\n",
        "\n",
        "p = int(input(\"Input p: \"))\n",
        "\n",
        "print(f\"Fraction = {fraction(p)}\")"
      ],
      "metadata": {
        "id": "IKvV5PwhjM2W"
      },
      "execution_count": null,
      "outputs": []
    },
    {
      "cell_type": "markdown",
      "source": [
        "##06 Polynomial\n",
        "Write a function poly that gets an argument x and calculates\n",
        "(5 * x^2 - 121 * x + 7)\n",
        "\n",
        "\n",
        "\n",
        "import math\n",
        "\n",
        "//your code here\n",
        "\n",
        "x = int(input())\n",
        "a = poly(x)\n",
        "print (a)"
      ],
      "metadata": {
        "id": "7mp4lRq8jOGz"
      }
    },
    {
      "cell_type": "code",
      "source": [
        "def poly(x):\n",
        "    return 5*x**2 - 121*x + 7"
      ],
      "metadata": {
        "id": "-tYbIaEejqVS"
      },
      "execution_count": null,
      "outputs": []
    },
    {
      "cell_type": "markdown",
      "source": [
        "##07 Movement distance\n",
        "Write a function distance which calculates the distance moved.\n",
        "\n",
        "Use 2 parameters a (acceleration in m/s^2) and t (time in second) , assume the initial velocity is 0\n",
        "\n",
        "//your code here\n",
        "\n",
        "acceleration = int(input(\"Acceleration : \"))\n",
        "time = int(input(\"Time : \"))\n",
        "print(distance(acceleration,time))"
      ],
      "metadata": {
        "id": "vkXMHFNNjuEK"
      }
    },
    {
      "cell_type": "code",
      "source": [
        "def distance(a, t):\n",
        "    return 1/2 * a * t**2"
      ],
      "metadata": {
        "id": "znv9ON1Jj5-6"
      },
      "execution_count": null,
      "outputs": []
    },
    {
      "cell_type": "markdown",
      "source": [
        "##08 When will the tank be full ?\n",
        "When will the tank be full ??\n",
        "\n",
        "Write a program that finds the time we need to fill a cylindrical empty tank. By asking for the following.\n",
        "\n",
        "Diameter of a tank, in inches\n",
        "\n",
        "Height of a tank, in inches\n",
        "\n",
        "Fill rate, in cc/second\n",
        "\n",
        "Then show how long we need to fill it (in minute).\n",
        "\n",
        "Sample output\n",
        "Enter tank's diameter (inch): 24 \n",
        "Enter tank's height (inch): 3\n",
        "Enter water flow rate (cc/s): 15\n",
        "Time to fill the tank is 24.711110 minutes\n",
        "\n",
        "\n",
        "*hint: 1 inch = 2.54 cm"
      ],
      "metadata": {
        "id": "YuZjakAcj7ZA"
      }
    },
    {
      "cell_type": "code",
      "source": [
        "import math\n",
        "d = int(input(\"Enter tank's diameter (inch): \")) *2.54 \n",
        "h = int(input(\"Enter tank's height (inch): \")) *2.54\n",
        "flow = int(input(\"Enter water flow rate (cc/s): \"))\n",
        "\n",
        "print(f\"Time to fill the tank is { (math.pi*(d/2)**2 * h / flow )/60:.6f} minutes\")"
      ],
      "metadata": {
        "id": "x1okbWblkBy8"
      },
      "execution_count": null,
      "outputs": []
    },
    {
      "cell_type": "markdown",
      "source": [
        "##09 พ่อค้าเดินเรือ"
      ],
      "metadata": {
        "id": "3eyi3HAOkESE"
      }
    },
    {
      "cell_type": "markdown",
      "source": [
        "###โจทย์\n",
        "ปัญหาที่เจอมีทั้งปัญหาขนาดเล็กซึ่งอาจหาคำตอบด้วยคำสั่งเพียงบรรทัดเดียว หรือปัญหาที่ซับซ้อนซึ่งอาจต้องเขียนโปรแกรมขนาดใหญ่ โดยทั่วไปเราสามารถแบ่งปัญหาเป็นปัญหาย่อยได้ เช่น ส่วนรับข้อมูล,ส่วนคำนวณและส่วนแสดงผล ซึ่งทำให้เราคิดแก้ปัญหาได้เป็นระบบ และให้ความสำคัญกับส่วนการตั้งและแก้ปัญหาปัญหาได้ง่ายขึ้น\n",
        "\n",
        "ต่อไปจะเป็นการฝึกเขียนโปรแกรมเพื่อแก้ไขปัญหาเชิงประยุกต์และแสดงให้เห็นความสำคัญของการแบ่งปัญหาเป็นส่วนย่อย\n",
        "โจทย์:1\n",
        "พ่อค้าคนหนึ่งวางแผนเดินเรือ โดยออกเดินทางจากเมืองท่า O ไปเมืองท่า A, B และ C ตามลำดับแล้วสุดท้ายต้องเดินทางกลับมายังเมืองท่า O\n",
        "\n",
        "เริ่มต้นพ่อค้าขนสินค้าสามส่วนเพื่อไปส่งขายแต่ละเมืองโดยสินค้าแต่ละส่วนมีน้ำหนัก weight_a,weight_b,weight_c ตันตามลำดับ ซึ่งเมื่อขายสินค้าแต่ละส่วนจะได้กำไรต่อตันเป็น price_a,price_b,price_c เหรียญต่อตัน\n",
        "\n",
        "ในการเดินทางระหว่างสองเมืองจะต้องเตรียมเสบียงใหม่ตามจำนวนวันที่ใช้ในการเดินทางหากมีเศษให้ปัดขึ้นเป็นเต็มวัน โดยมีค่าเสบียงวันละ price_s เหรียญ\n",
        "\n",
        "ระยะทาง distance_OA, distance_AB, distance_BC และ distance_CO ในหน่วยกิโลเป็นระยะทางการเดินทางระหว่างเมือง O ไป A, A ไป B, B ไป C และ C กลับมา O ตามลำดับ\n",
        "\n",
        "ความเร็วเฉลี่ยของเรือเป็นฟังก์ชันของน้ำหนักสินค้าที่บรรทุกซึ่งมีค่าเท่ากับ 90/(3+W)+5 กิโลเมตรต่อชั่วโมงเมื่อ W เป็นน้ำหนักสินค้าที่บรรทุก\n",
        "\n",
        "พ่อค้าต้องการคำนวณหากำไรในการเดินทางหนึ่งรอบเมื่อกำหนด ปริมาณสินค้า,ระยะระหว่างเมือง และค่าเสบียงต่อวัน\n",
        "\n",
        "จงเขียนโปรแกรมเพื่อแก้ปัญหานี้\n",
        "\n",
        "กำหนดรูปแบบการทำงานของโปรแกรม ดังตัวอย่าง\n",
        "weight of cargo to A: 1\n",
        "weight of cargo to B: 2\n",
        "weight of cargo to C: 3\n",
        "price of cargo to A: 3\n",
        "price of cargo to B: 2\n",
        "price of cargo to C: 1\n",
        "price of supply: 10\n",
        "distance O to A: 100\n",
        "distance A to B: 100\n",
        "distance B to C: 200\n",
        "distance C to O: 300\n",
        "result profit is -50\n",
        "ขั้นแรกเราแบ่งฟังก์ชันย่อยเพื่่ออ่านข้อมูลและเำพื่อคำนวณคำตอบดังนี้\n",
        "\n",
        "[hide line #]\n",
        "def read_input():\n",
        "    \"\"\"read input and store in global variable\"\"\"\n",
        "def calculate_profit():\n",
        "    \"\"\"return calculate profit from input data\"\"\"\n",
        "ตัวโปรแกรมหลักจะมีหน้าตาดังนี้ ซึ่งสามารถทำงานได้แต่ยังไม่ถูกต้อง\n",
        "\n",
        "[hide line #]\n",
        "#(not necessary) declare global variable that will be use in subroutine\n",
        "price_a=0\n",
        "price_b=0\n",
        "price_c=0\n",
        "price_s=0\n",
        "weight_a=0\n",
        "weight_b=0\n",
        "weight_c=0\n",
        "distance_oa=0\n",
        "distance_ab=0\n",
        "distance_bc=0\n",
        "distance_co=0\n",
        "\n",
        "def read_input():\n",
        "    \"\"\"read input and store in global variable\"\"\"\n",
        "def calculate_profit():\n",
        "    \"\"\"return calculate profit from input data\"\"\"\n",
        "    return 0\n",
        "\n",
        "# main program\n",
        "read_input()\n",
        "profit = calculate_profit()\n",
        "print(\"result profit is %.3f\"%profit)\n",
        "ปัญหาหลักที่เหลือตอนนี้คือสร้างฟังก์ชัน read_input() และ calculate_profit() ให้ถูกต้อง\n",
        "ในขั้นนี้สมมุติว่าจะทำส่วนของ calculate_profit() ก่อน\n",
        "\n",
        "เมื่อพิจารณาปัญหาเราพบว่าเราสามารถคำนวณกำไรเป็นช่วงย่อยๆ ได้ เช่นจาก B ไป C กำไรก็คือ กำไรจากการขายสินค้าที่เมือง C ลบด้วย ค่าเสบียงในการเดินทางจาก B ไป C\n",
        "\n",
        "กำหนดฟังก์ชันย่อยเพิ่มเติมเพื่อคำนวณความเร็วในการเดินทางเมื่อกำหนดน้ำหนักที่บรรทุกและฟังก์ชันหาค่านวนวันที่ใช้เดินทางเมื่อกำหนดความเร็ว ระยะทาง\n",
        "\n",
        "[hide line #]\n",
        "def travel_speed(w):\n",
        "    \"\"\"calculate traveling speed using a formular that is given in the problem\"\"\"\n",
        "    return 90/(30+w)+5\n",
        "\n",
        "from math import ceil\n",
        "\n",
        "def travel_time(s, d):\n",
        "    \"\"\"calculate total days to travel distance d using speed s.\n",
        "       A fraction of day is roundup to full day \"\"\"\n",
        "    hours = d/s\n",
        "    day = ceil(hours/24)\n",
        "    return day\n",
        "\n",
        "def cal_sub_profit(distance, net_weight, sell_weight, cargo_price_per_ton, supply_price_per_day):\n",
        "    \"\"\"calculate profit that is received when travel from a town to a next town\"\"\"\n",
        "    speed = travel_speed(net_weight)\n",
        "    cargo_price = sell_weight*cargo_price_per_ton\n",
        "    supply_price = travel_time(speed,distance)*supply_price_per_day\n",
        "    return cargo_price - supply_price\n",
        "\n",
        "ข้อดีอย่างหนึ่งของการแบ่งการทำงานออกเป็นฟังก์ชันย่อย ก็คือเราจะตรวจสอบส่วนย่อยได้ง่ายขึ้น\n",
        "ตัวอย่างให้ลองทดสอบฟังก์ชันย่อยว่าทำงานอย่างที่ควรจะเป็นหรือไม่ โดยทดสอบใส่ค่าที่เรารู้คำตอบใน python shell ซึ่งการทดสอบด้วยค่าง่ายๆ ก็มีประโยชน์ในการเช็คเรื่องการเขียนโค้ดผิดได้\n",
        "\n",
        "\n",
        "[hide line #]\n",
        "travel_speed(60) #6\n",
        "travel_speed(0) #8\n",
        "travel_speed(70) #5.9\n",
        "travel_time(1,24) #1\n",
        "travel_time(2,24) #1\n",
        "จากฟังกชันย่อยที่สร้างขึ้นเราเขียนฟังก์ชันเพื่อหากำไรทั้งหมด\n",
        "\n",
        "[hide line #]\n",
        "def calculate_profit():\n",
        "    \"\"\"calculate and return result profit from input data\"\"\"\n",
        "    #step 1: from o to a\n",
        "    w_net = weight_a+weight_b+weight_c\n",
        "    profit = cal_sub_profit(distance_oa,w_net,weight_a,price_a,price_s)\n",
        "    #step 2: from a to b\n",
        "    w_net = weight_b+weight_c\n",
        "    profit = profit + cal_sub_profit(distance_ab,w_net,weight_b,price_b,price_s)\n",
        "    #step 3: from b to c\n",
        "    w_net = weight_c\n",
        "    profit = profit + cal_sub_profit(distance_bc,w_net,weight_c,price_c,price_s)\n",
        "    #step 4: from c to 0\n",
        "    w_net = 0\n",
        "    profit = profit + cal_sub_profit(distance_co,w_net,0,0,price_s)\n",
        "    return profit\n",
        "และเช่นเดิมเราสามารถทดสอบฟังก์ชัน calculate_profit() ก่อนได้ถึงแม้เรายังไม่ได้สร้าง read_input() โดยการกำหนดค่าเริ่มต้นด้วยตัวเอง\n",
        "\n",
        "[hide line #]\n",
        "price_a=1\n",
        "price_b=2\n",
        "price_c=3\n",
        "price_s=10\n",
        "weight_a=3\n",
        "weight_b=2\n",
        "weight_c=1\n",
        "distance_oa=100\n",
        "distance_ab=100\n",
        "distance_bc=200\n",
        "distance_co=300\n",
        "-1e-10 < calculate_profit()-(-50) < 1e-10\n",
        "ต่อไปเราแก้ส่วนรับข้อมูลดังนี้\n",
        "\n",
        "[hide line #]\n",
        "def read_input():\n",
        "    \"\"\"read input and store in global variable\"\"\"\n",
        "    # need to declare variables as global variables because we need to assign their values\n",
        "    global price_a, price_b, price_c, price_s\n",
        "    global weight_a, weight_b, weight_c\n",
        "    global distance_oa, distance_ab, distance_bc, distance_co\n",
        "    weight_a = float(input(\"weight of cargo to A: \"))\n",
        "    weight_b = float(input(\"weight of cargo to B: \"))\n",
        "    weight_c = float(input(\"weight of cargo to C: \"))\n",
        "    price_a = float(input(\"price of cargo to A: \"))\n",
        "    price_b = float(input(\"price of cargo to B: \"))\n",
        "    price_c = float(input(\"price of cargo to C: \"))\n",
        "    price_s = float(input(\"price of supply: \"))\n",
        "    distance_oa = float(input(\"distance O to A: \"))\n",
        "    distance_ab = float(input(\"distance A to B: \"))\n",
        "    distance_bc = float(input(\"distance B to C: \"))\n",
        "    distance_co = float(input(\"distance C to O: \"))\n",
        "2. จากปัญหาข้อแรก กำหนดให้เมื่อพ่อค่าไปถึงเมือง C พ่อค้าจะรับสินค้าจากเมือง C เพื่อนำกลับไปขายที่เมือง O ด้วย\n",
        "กำหนดตัวอย่างการทำงานของโปรแกรมดังนี้\n",
        "weight of cargo to A: 1\n",
        "weight of cargo to B: 2\n",
        "weight of cargo to C: 3\n",
        "weight of cargo to O: 6\n",
        "price of cargo to A: 30\n",
        "price of cargo to B: 20\n",
        "price of cargo to C: 10\n",
        "price of cargo to O: 30\n",
        "price of supply: 10\n",
        "distance O to A: 100\n",
        "distance A to B: 100\n",
        "distance B to C: 200\n",
        "distance C to O: 50\n",
        "result profit is 230\n",
        "จงเขียนโปรแกรมเพื่อคำนวณหากำไรในการเดินทางหนึ่งรอบ\n",
        "*ลองคำนวณกำไรด้วยวิธี คิดผลรวมของค่าขายสินค้าทั้งหมด หักลบกับ ค่าเสบียงทั้งหมด\n",
        "\n",
        "\n"
      ],
      "metadata": {
        "id": "OWgJMNbnkLZx"
      }
    },
    {
      "cell_type": "code",
      "source": [
        "#(not necessary) declare global variable that will be use in subroutine\n",
        "price_a=0\n",
        "price_b=0\n",
        "price_c=0\n",
        "price_s=0\n",
        "weight_a=0\n",
        "weight_b=0\n",
        "weight_c=0\n",
        "distance_oa=0\n",
        "distance_ab=0\n",
        "distance_bc=0\n",
        "distance_co=0\n",
        "\n",
        "def read_input():\n",
        "    \"\"\"read input and store in global variable\"\"\"\n",
        "    # need to declare variables as global variables because we need to assign their values\n",
        "    global price_a, price_b, price_c, price_s, price_o\n",
        "    global weight_a, weight_b, weight_c, weight_o\n",
        "    global distance_oa, distance_ab, distance_bc, distance_co\n",
        "    weight_a = float(input(\"weight of cargo to A: \"))\n",
        "    weight_b = float(input(\"weight of cargo to B: \"))\n",
        "    weight_c = float(input(\"weight of cargo to C: \"))\n",
        "    weight_o = float(input(\"weight of cargo to O: \"))\n",
        "    price_a = float(input(\"price of cargo to A: \"))\n",
        "    price_b = float(input(\"price of cargo to B: \"))\n",
        "    price_c = float(input(\"price of cargo to C: \"))\n",
        "    price_o = float(input(\"price of cargo to O: \"))\n",
        "    price_s = float(input(\"price of supply: \"))\n",
        "    distance_oa = float(input(\"distance O to A: \"))\n",
        "    distance_ab = float(input(\"distance A to B: \"))\n",
        "    distance_bc = float(input(\"distance B to C: \"))\n",
        "    distance_co = float(input(\"distance C to O: \"))\n",
        "\n",
        "def travel_speed(w):\n",
        "    \"\"\"calculate traveling speed using a formular that is given in the problem\"\"\"\n",
        "    return 90/(30+w)+5\n",
        "\n",
        "from math import ceil\n",
        "\n",
        "def travel_time(s, d):\n",
        "    \"\"\"calculate total days to travel distance d using speed s.\n",
        "       A fraction of day is roundup to full day \"\"\"\n",
        "    hours = d/s\n",
        "    day = ceil(hours/24)\n",
        "    return day\n",
        "\n",
        "def cal_sub_profit(distance, net_weight, sell_weight, cargo_price_per_ton, supply_price_per_day):\n",
        "    \"\"\"calculate profit that is received when travel from a town to a next town\"\"\"\n",
        "    speed = travel_speed(net_weight)\n",
        "    cargo_price = sell_weight*cargo_price_per_ton\n",
        "    supply_price = travel_time(speed,distance)*supply_price_per_day\n",
        "    return cargo_price - supply_price\n",
        "\n",
        "def calculate_profit():\n",
        "    \"\"\"calculate and return result profit from input data\"\"\"\n",
        "    #step 1: from o to a\n",
        "    w_net = weight_a+weight_b+weight_c\n",
        "    profit = cal_sub_profit(distance_oa,w_net,weight_a,price_a,price_s)\n",
        "    #step 2: from a to b\n",
        "    w_net = weight_b+weight_c\n",
        "    profit = profit + cal_sub_profit(distance_ab,w_net,weight_b,price_b,price_s)\n",
        "    #step 3: from b to c\n",
        "    w_net = weight_c\n",
        "    profit = profit + cal_sub_profit(distance_bc,w_net,weight_c,price_c,price_s)\n",
        "    #step 4: from c to 0\n",
        "    w_net = weight_o\n",
        "    profit = profit + cal_sub_profit(distance_co,w_net,weight_o,price_o,price_s)\n",
        "    return profit\n",
        "\n",
        "# main program\n",
        "read_input()\n",
        "profit = calculate_profit()\n",
        "print(\"result profit is %.3f\"%profit)\n",
        "\n",
        "\"\"\"\n",
        "test case 1\n",
        "1\n",
        "2\n",
        "3\n",
        "3\n",
        "2\n",
        "1\n",
        "10\n",
        "100\n",
        "100\n",
        "200\n",
        "300\n",
        "\n",
        "test case 2\n",
        "1\n",
        "2\n",
        "3\n",
        "6\n",
        "30\n",
        "20\n",
        "10\n",
        "30\n",
        "10\n",
        "100\n",
        "100\n",
        "200\n",
        "50\n",
        "\"\"\""
      ],
      "metadata": {
        "id": "a2EaO3UBkca_"
      },
      "execution_count": null,
      "outputs": []
    },
    {
      "cell_type": "markdown",
      "source": [
        "##10 ทอนเงิน (ฟังก์ชัน)\n",
        "ทอนเงิน (ฟังก์ชัน)\n",
        "ให้นิสิตเขียนฟังก์ชันชื่อ change ที่จะรีเทิร์นจำนวนธนบัตรที่แลกเงินได้ ไม่ว่าจะเป็นเงินจำนวนเท่าไหร่หรือธนบัตรมูลค่าเท่าใด เช่นจำนวนเงิน 45 บาทจะแลกธนบัตรใบละ 20 บาทได้ 2 ใบ (ไม่ต้องสนใจเศษเงินที่เหลือ) ในขณะที่จำนวนเงิน 120 บาทจะและธนบัตรใบละ 100 บาทได้ 1 ใบ\n",
        "\n",
        "จากนั้นให้เติมโปรแกรมให้สมบูรณ์ โดยโปรแกรมจะรับจำนวนเงินเข้ามา และคำนวณว่าจะแลกเป็นธนบัตร 500, 100, 20, 5, และ 1 บาทได้กี่ใบ โดยกำหนดว่าจะแลกเงินเป็นธนบัตรที่มีค่ามากที่สุดก่อน และธนบัตรมีแลกได้ไม่จำกัดจำนวน โปรแกรมนี้ต้องใช้ฟังก์ชันที่นิสิตนิยาม\n",
        "\n",
        "ตัวอย่าง\n",
        "Enter total money: 1218\n",
        "500: 2\n",
        "100: 2\n",
        " 20: 0\n",
        "  5: 3\n",
        "  1: 3\n",
        "\n",
        "```\n",
        "money = int(input(\"Enter total money: \"))\n",
        "b500 = change()\n",
        "left = \n",
        "\n",
        "b100 = change()\n",
        "left = left - b100*100\n",
        "b20 = change()\n",
        "left = \n",
        "\n",
        "b5 = change()\n",
        "left = left - b5*5\n",
        "b1 = \n",
        "\n",
        "\n",
        "print(\"500: %d\" % b500)\n",
        "print(\"100: %d\" % b100)\n",
        "print(\" 20: %d\" % b20)\n",
        "print(\"  5: %d\" % b5)\n",
        "print(\"  1: %d\" % b1)\n",
        "```"
      ],
      "metadata": {
        "id": "PxwI3EpFlyig"
      }
    },
    {
      "cell_type": "code",
      "source": [
        "def change(money, b):\n",
        "    return money//b\n",
        "\n",
        "\n",
        "money = int(input(\"Enter total money: \"))\n",
        "b500 = change(money, 500)\n",
        "left = money - b500*500\n",
        "\n",
        "b100 = change(left, 100)\n",
        "left = left - b100*100\n",
        "b20 = change(left, 20)\n",
        "left = left - b20*20\n",
        "\n",
        "b5 = change(left,5)\n",
        "left = left - b5*5\n",
        "b1 = left\n",
        "\n",
        "\n",
        "print(\"500: %d\" % b500)\n",
        "print(\"100: %d\" % b100)\n",
        "print(\" 20: %d\" % b20)\n",
        "print(\"  5: %d\" % b5)\n",
        "print(\"  1: %d\" % b1)"
      ],
      "metadata": {
        "id": "KHmyQ-LIl5iw"
      },
      "execution_count": null,
      "outputs": []
    },
    {
      "cell_type": "markdown",
      "source": [
        "## 11 วงกลม\n",
        "วงกลม\n",
        "จงเขียนโปรแกรมเพื่อรับรัศมี (radius) r ในโปรแกรมหลัก สร้างและเรียกใช้ฟังก์ชันต่อไปนี้ เพื่อให้แสดงผลลัพธ์\n",
        "1.1. circle(r) เพื่อคำนวณและส่งกลับพื้นที่ของวงกลมที่มีรัศมี r\n",
        "1.2. circumference(r) เพื่อคำนวณและส่งกลับความยาวเส้นรอบวงของวงกลมที่มีรัศมี r\n",
        "1.3. sphere(r) เพื่อคำนวณและส่งกลับปริมาตรทรงกลมที่มีรัศมี r\n",
        "\n",
        "ตัวอย่าง Input/Output\n",
        "Enter a radius: 3.5\n",
        "Area of a circle with radius 3.50 is 38.48.\n",
        "Circumference of a circle with radius 3.50 is 21.99.\n",
        "Volume of sphere with radius 3.50 is 179.59.\n",
        "\n",
        "```\n",
        "# your code here\n",
        "\n",
        "r = \n",
        "\n",
        "print('Area of a circle with radius %.2f is %.2f.' % (r, circle(r)))\n",
        "print('Circumference of a circle with radius %.2f is %.2f.' % (r, circumference(r)))\n",
        "print('Volume of sphere with radius %.2f is %.2f.' % (r, sphere(r)))\n",
        "```"
      ],
      "metadata": {
        "id": "5DBohHLvmalC"
      }
    },
    {
      "cell_type": "code",
      "source": [
        "import math\n",
        "def circle(r):\n",
        "    return math.pi*r*r\n",
        "\n",
        "def circumference(r):\n",
        "    return 2*math.pi*r\n",
        "\n",
        "def sphere(r):\n",
        "    return 4/3*math.pi*r*r*r\n",
        "\n",
        "\n",
        "r = float(input(\"Enter a radius: \"))\n",
        "\n",
        "print('Area of a circle with radius %.2f is %.2f.' % (r, circle(r)))\n",
        "print('Circumference of a circle with radius %.2f is %.2f.' % (r, circumference(r)))\n",
        "print('Volume of sphere with radius %.2f is %.2f.' % (r, sphere(r)))"
      ],
      "metadata": {
        "id": "4EUZHMMMml53"
      },
      "execution_count": null,
      "outputs": []
    },
    {
      "cell_type": "markdown",
      "source": [
        "##12 หลักเลข\n",
        "หลักเลข\n",
        "จงเขียนโปรแกรมเพื่อรับจำนวนเต็ม num ที่กำหนดให้มีค่าตั้งแต่ 0 และน้อยกว่า 10,000 สร้างฟังก์ชันเพื่อส่งกลับตัวเลข ของแต่ละหลักดังนี้\n",
        "\n",
        "2.1. digit(num) เพื่อคืนค่าตัวเลขในหลักหน่วยของจำนวนเต็ม num\n",
        "2.2. tens(num) เพื่อคืนค่าตัวเลขในหลักสิบของจำนวนเต็ม num\n",
        "2.3. hundreds(num) เพื่อคืนค่าตัวเลขในหลักร้อยของจำนวนเต็ม num\n",
        "2.4. thousands(num) เพื่อคืนค่าตัวเลขในหลักพันของจำนวนเต็ม num\n",
        "\n",
        "นอกจากนี้ให้สร้างฟังก์ชัน sum_digits(num) เพิ่มเติมเพื่อคืนค่าผลบวกของตัวเลขในแต่ละหลักของ num\n",
        "\n",
        "ตัวอย่าง Input/Output\n",
        "Enter a number (0 to 9999): 8143\n",
        "Digit place is 3.\n",
        "Tens place is 4.\n",
        "Hundreds place is 1.\n",
        "Thousands place is 8.\n",
        "Sum of all digits is 16.\n",
        "\n",
        "```\n",
        "your code here\n",
        "\n",
        "\n",
        "\n",
        "n   = int(input('Enter a number (0 to 9999): '))\n",
        "print('Digit place is %d.' % (digit(n)))\n",
        "print('Tens place is %d.' % (tens(n)))\n",
        "print('Hundreds place is %d.' % (hundreds(n)))\n",
        "print('Thousands place is %d.' % (thousands(n)))\n",
        "print('Sum of all digits is %d.' % sum_digits(n))\n",
        "```"
      ],
      "metadata": {
        "id": "ZHLwXo3MmpRy"
      }
    },
    {
      "cell_type": "code",
      "source": [
        "def digit(n):\n",
        "    return n%10\n",
        "\n",
        "def tens(n):\n",
        "    return (n%100) // 10\n",
        "\n",
        "def hundreds(n):\n",
        "    return (n%1000) // 100\n",
        "\n",
        "def thousands(n):\n",
        "    return n // 1000\n",
        "\n",
        "def sum_digits(n):\n",
        "    return n%10 + (n%100) // 10 + (n%1000) // 100 + n // 1000\n",
        "\n",
        "n   = int(input('Enter a number (0 to 9999): '))\n",
        "print('Digit place is %d.' % (digit(n)))\n",
        "print('Tens place is %d.' % (tens(n)))\n",
        "print('Hundreds place is %d.' % (hundreds(n)))\n",
        "print('Thousands place is %d.' % (thousands(n)))\n",
        "print('Sum of all digits is %d.' % sum_digits(n))"
      ],
      "metadata": {
        "id": "BbYQBs5bmtyl"
      },
      "execution_count": null,
      "outputs": []
    },
    {
      "cell_type": "markdown",
      "source": [
        "##13 ดอกเบี้ย\n",
        "ดอกเบี้ย\n",
        "จงเขียนโปรแกรมเพื่อรับค่าเงินต้น (principle) ในหน่วยบาท อัตราดอกเบี้ย (interest rate) ในหน่วยร้อยละต่อปี และระยะเวลากู้ยืม (time) ในหน่วยปี แล้วสร้างและเรียกใช้ฟัก์ชันเพื่อคำนวนหาจำนวนเงินรวมที่ต้องจ่ายเมื่อครบระยะเวลากู้ยืมใน 2 รูปแบบ ดังนี้\n",
        "\n",
        "simple_interest(p, r, t) เพื่อคืนค่าเงินรวมของการคิดดอกเบี้ยเชิงเดียว จากสูตร\n",
        "ดอกเบี้ย = เงินต้น x อัตราดอกเบี้ย x ระยะเวลากู้ยืม\n",
        "compound_interest(p, r, t) เพื่อคืนค่าเงินรวมของการคิดดอกเบี้ยทบต้น จากสูตร\n",
        "เงินรวม = เงินต้น x (1 +อัตราดอกเบี้ย) ระยะเวลากู้ยืม\n",
        "ตัวอย่าง Input/Output\n",
        "Enter principle: 25000\n",
        "Enter interest rate: 3.25\n",
        "Enter time: 6.5\n",
        "Return money for simple interest calculation is 30281.25 Baht.\n",
        "Return money for compound interest calculation is 30776.94 Baht.\n",
        "\n",
        "```\n",
        "your code here\n",
        "\n",
        "print('Return money for simple interest calculation is %.2f Baht.' % (simple_interest(p, r, t)))\n",
        "print('Return money for compound interest calculation is %.2f Baht.' % (compound_interest(p, r, t)))\n",
        "```"
      ],
      "metadata": {
        "id": "9Fat_7iSm40D"
      }
    },
    {
      "cell_type": "code",
      "source": [
        "def simple_interest(p,r,t):\n",
        "    return p*r*t + p\n",
        "\n",
        "def compound_interest(p,r,t):\n",
        "    return p * (1+r)**t\n",
        "\n",
        "p = float(input(\"Enter principle: \"))\n",
        "r = float(input(\"Enter interest rate: \"))/100\n",
        "t = float(input(\"Enter time: \"))\n",
        "\n",
        "\n",
        "print('Return money for simple interest calculation is %.2f Baht.' % (simple_interest(p, r, t)))\n",
        "print('Return money for compound interest calculation is %.2f Baht.' % (compound_interest(p, r, t)))"
      ],
      "metadata": {
        "id": "7rfrgbxPm8aT"
      },
      "execution_count": null,
      "outputs": []
    },
    {
      "cell_type": "markdown",
      "source": [
        "##14 ระยะเวลา\n",
        "ระยะเวลา\n",
        "จงเขียนโปรแกรมเพื่อรับค่าเวลาเริ่มต้น (start time) และเวลาสิ้นสุด (finish time) ซึ่งกำหนดให้เวลาของวันเดียวกันเพื่อคำนวณหาระยะเวลาระหว่างเวลาทั้งสอง โดยกำหนดให้สร้างฟังก์ชันต่อไปนี้\n",
        "\n",
        "read_hour() เพื่อคืนค่าชั่วโมงในระบบ 24 ชั่วโมง (นั่นคือ ค่าที่เป็นไปได้มีค่าตั้งแต่ 0 ถึง 23)\n",
        "read_minute() เพื่อคืนค่านาที (ค่าที่เป็นไปได้มีค่าตั้งแต่ 0 ถึง 59)\n",
        "read_second() เพื่อคืนค่าวินาที (ค่าที่เป็นไปได้มีค่าตั้งแต่ 0 ถึง 59)\n",
        "to_seconds(h, m, s) เพื่อคืนค่าจำนวนวินาทีทั้งหมดของเวลา h ชั่วโมง m นาที และ s วินาที\n",
        "time_elapsed(start, finish) เพื่อคืนค่าระยะเวลานับจากวินาทีที่ start ถึงวินาทีที่ finish\n",
        "แนะนำ ถ้าเวลาเริ่มต้นและเวลาสิ้นสุดมีค่าเป็น 8:15:00 ถึง 13:20:00 ตามลำดับ ในการหาระยะเวลาระหว่างเวลาทั้งสอง เราสามารถทำได้โดยแปลงเวลาทั้งสองให้อยู่ในรูปของจำนวนวินาทีนับจากเวลา 00:00:00 แล้วหาผลต่างของค่าทั้งสอง\n",
        "\n",
        "ตัวอย่าง Input/Output\n",
        "Start time:\n",
        ">> Enter hour: 8\n",
        ">> Enter minute: 15\n",
        ">> Enter second: 0\n",
        "Finish time:\n",
        ">> Enter hour: 13\n",
        ">> Enter minute: 20\n",
        ">> Enter second: 0\n",
        "Elapsed time is 5 hours 5 minutes 0 seconds.\n",
        "\n",
        "```\n",
        "your code here\n",
        "\n",
        "def read_time():\n",
        "    print('>> ', end='')\n",
        "    hour = read_hour()\n",
        "    print('>> ', end='')\n",
        "    minute = read_minute()\n",
        "    print('>> ', end='')\n",
        "    second = read_second()\n",
        "    return to_seconds(hour, minute, second)\n",
        "\n",
        "print('Start time:')\n",
        "start_time = read_time()\n",
        "print('Finish time:')\n",
        "finish_time = read_time()\n",
        "print('Elapsed time is', time_elapsed(start_time, finish_time))\n",
        "```"
      ],
      "metadata": {
        "id": "z-51B34TnCw7"
      }
    },
    {
      "cell_type": "code",
      "source": [
        "def read_hour():\n",
        "    return int(input(\"Enter hour: \"))\n",
        "\n",
        "def read_minute():\n",
        "    return int(input(\"Enter minute: \"))\n",
        "\n",
        "def read_second():\n",
        "    return int(input(\"Enter second: \"))\n",
        "\n",
        "def to_seconds(h,m,s):\n",
        "    return h*3600 + m*60 + s\n",
        "\n",
        "def time_elapsed(start, finish):\n",
        "    result = finish-start\n",
        "    h = result//3600\n",
        "    result%=3600\n",
        "    m = result//60\n",
        "    result%=60\n",
        "    s = result\n",
        "    return f\"{h} hours {m} minutes {s} seconds.\"\n",
        "\n",
        "def read_time():\n",
        "    print('>> ', end='')\n",
        "    hour = read_hour()\n",
        "    print('>> ', end='')\n",
        "    minute = read_minute()\n",
        "    print('>> ', end='')\n",
        "    second = read_second()\n",
        "    return to_seconds(hour, minute, second)\n",
        "\n",
        "print('Start time:')\n",
        "start_time = read_time()\n",
        "print('Finish time:')\n",
        "finish_time = read_time()\n",
        "print('Elapsed time is', time_elapsed(start_time, finish_time))"
      ],
      "metadata": {
        "id": "UeOAfp1ZnKcE"
      },
      "execution_count": null,
      "outputs": []
    },
    {
      "cell_type": "markdown",
      "source": [
        "##15 L02 ฟังก์ชันทางคณิตศาสตร์ 1\n",
        "ฟังก์ชันทางคณิตศาสตร์ (1)\n",
        "จงเปลี่ยนนิพจน์ทางคณิตศาสตร์ข้างล่างนี้เป็นนิพจน์ทางคณิตศาสตร์ในภาษา Python ที่ถูกต้อง\n",
        "\n",
        "a\n",
        "1\n",
        "=\n",
        "x\n",
        "y\n",
        "+\n",
        "z\n",
        "a\n",
        "2\n",
        "=\n",
        "cos\n",
        "(\n",
        "2\n",
        "π\n",
        ")\n",
        "+\n",
        "log\n",
        "e\n",
        "(\n",
        "x\n",
        ")\n",
        "a\n",
        "3\n",
        "=\n",
        "|\n",
        "x\n",
        "|\n",
        "+\n",
        "|\n",
        "y\n",
        "|\n",
        "a\n",
        "4\n",
        "=\n",
        "√\n",
        "x\n",
        "2\n",
        "+\n",
        "y\n",
        "2\n",
        "+\n",
        "z\n",
        "2\n",
        "a\n",
        "5\n",
        "=\n",
        "sin\n",
        "2\n",
        "(\n",
        "x\n",
        ")\n",
        "+\n",
        "cos\n",
        "2\n",
        "(\n",
        "x\n",
        ")\n",
        "a\n",
        "6\n",
        "=\n",
        "5\n",
        "√\n",
        "x\n",
        "+\n",
        "y\n",
        "a\n",
        "7\n",
        "=\n",
        "e\n",
        "x\n",
        "ln\n",
        "y\n",
        "หมายเหตุ: สำหรับค่าพายให้ใช้ค่าคงที่ math.pi และค่า e ให้ใช้ค่าคงที่ math.e\n",
        "\n",
        "ดูรายละเอียดของตัวแปรและฟังก์ชันในโมดูล math ได้ที่ https://docs.python.org/3.4/library/math.html\n",
        "\n",
        "ตัวอย่าง Input/Output\n",
        "Enter x: 5\n",
        "Enter y: 5\n",
        "Enter z: 5\n",
        "a1 = 3130.00\n",
        "a2 = 2.61\n",
        "a3 = 10.00\n",
        "a4 = 8.66\n",
        "a5 = 1.00\n",
        "a6 = 1.58\n",
        "a7 = 3125.00\n",
        "\n",
        "```\n",
        "import math\n",
        "\n",
        "x = float(input(\"Enter x: \"));\n",
        "y = float(input(\"Enter y: \"));\n",
        "z = float(input(\"Enter z: \"));\n",
        "\n",
        "a1 = \n",
        "\n",
        "a2 = \n",
        "\n",
        "a3 = \n",
        "\n",
        "a4 = \n",
        "\n",
        "a5 = \n",
        "\n",
        "a6 = \n",
        "\n",
        "a7 = \n",
        "\n",
        "\n",
        "print(\"a1 = %.2f\" % a1)\n",
        "print(\"a2 = %.2f\" % a2)\n",
        "print(\"a3 = %.2f\" % a3)\n",
        "print(\"a4 = %.2f\" % a4)\n",
        "print(\"a5 = %.2f\" % a5)\n",
        "print(\"a6 = %.2f\" % a6)\n",
        "print(\"a7 = %.2f\" % a7)\n",
        "```"
      ],
      "metadata": {
        "id": "aL7IqzuKnPex"
      }
    },
    {
      "cell_type": "code",
      "source": [
        "import math\n",
        "\n",
        "x = float(input(\"Enter x: \"));\n",
        "y = float(input(\"Enter y: \"));\n",
        "z = float(input(\"Enter z: \"));\n",
        "\n",
        "a1 = x**y + z\n",
        "\n",
        "a2 = math.cos(2*math.pi) + math.log(x)\n",
        "\n",
        "a3 = abs(x) + abs(y)\n",
        "\n",
        "a4 = math.sqrt(x**2 + y**2 + z**2)\n",
        "\n",
        "a5 = math.sin(x)**2 + math.cos(x)**2\n",
        "\n",
        "a6 = (x+y)**(1/5)\n",
        "\n",
        "a7 = math.e** (x*math.log(y))\n",
        "\n",
        "\n",
        "print(\"a1 = %.2f\" % a1)\n",
        "print(\"a2 = %.2f\" % a2)\n",
        "print(\"a3 = %.2f\" % a3)\n",
        "print(\"a4 = %.2f\" % a4)\n",
        "print(\"a5 = %.2f\" % a5)\n",
        "print(\"a6 = %.2f\" % a6)\n",
        "print(\"a7 = %.2f\" % a7)"
      ],
      "metadata": {
        "id": "04p1e0lvnSKy"
      },
      "execution_count": null,
      "outputs": []
    },
    {
      "cell_type": "markdown",
      "source": [
        "##16 L02 คำนวณพิ้นที่ของวงกลมที่มีเส้นผ่านศูนย์กลาง d\n",
        "คำนวณพื้นที่ของวงกลมที่มีเส้นผ่านศูนย์กลาง d\n",
        "จงเขียนฟังก์ชัน area_of_circle() ซึ่งคำนวณพื้นที่ของวงกลมที่มีเส้นผ่านศูนย์กลาง d\n",
        "\n",
        "หมายเหตุ: ค่าพาย (Pi) นิยามไว้ในตัวแปรที่ชื่อ pi ใน math\n",
        "\n",
        "ตัวอย่างผลลัพธ์\n",
        "Diameter: 1\n",
        "area = 0.785\n",
        "Diameter: 10\n",
        "area = 78.540\n",
        "\n",
        "```\n",
        "import math\n",
        "\n",
        "def area_of_circle(k):\n",
        "  \n",
        "\n",
        "\n",
        "\n",
        "\n",
        "d = input(\"Diameter: \")\n",
        "d_float = \n",
        "\n",
        "area = area_of_circle(d_float)\n",
        "print()\n",
        "```"
      ],
      "metadata": {
        "id": "S2PYhQt4nc1h"
      }
    },
    {
      "cell_type": "code",
      "source": [
        "import math\n",
        "\n",
        "def area_of_circle(k):  \n",
        "  return math.pi*(k/2)**2\n",
        "\n",
        "d = input(\"Diameter: \")\n",
        "d_float = float(d)\n",
        "\n",
        "area = area_of_circle(d_float)\n",
        "print(f\"area = {area:.3f}\")"
      ],
      "metadata": {
        "id": "neMqX4G8nm_Z"
      },
      "execution_count": null,
      "outputs": []
    }
  ]
}
