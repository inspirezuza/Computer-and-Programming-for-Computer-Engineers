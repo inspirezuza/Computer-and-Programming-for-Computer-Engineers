{
  "nbformat": 4,
  "nbformat_minor": 0,
  "metadata": {
    "colab": {
      "provenance": [],
      "authorship_tag": "ABX9TyOR2r5BXuSeSNl5ICDMA+ZM",
      "include_colab_link": true
    },
    "kernelspec": {
      "name": "python3",
      "display_name": "Python 3"
    },
    "language_info": {
      "name": "python"
    }
  },
  "cells": [
    {
      "cell_type": "markdown",
      "metadata": {
        "id": "view-in-github",
        "colab_type": "text"
      },
      "source": [
        "<a href=\"https://colab.research.google.com/github/sorrawutzuza/elabcpe113cheating/blob/main/elab7.ipynb\" target=\"_parent\"><img src=\"https://colab.research.google.com/assets/colab-badge.svg\" alt=\"Open In Colab\"/></a>"
      ]
    },
    {
      "cell_type": "markdown",
      "source": [
        "#Lab 07 113 sec1-1/2022"
      ],
      "metadata": {
        "id": "7qJLzCFKjwqC"
      }
    },
    {
      "cell_type": "markdown",
      "source": [
        "##01 matrix_plus\n",
        "[matrix_plus]\n",
        "จงสร้างฟังก์ชันที่ใช้ดำเนินการเมทริกซ์ กำหนด A และ B เป็นเมทริกซ์ที่อยู่ในรูปลิส 2 มิติ\n",
        "\n",
        "plus_matrix(A,B) # ผลรวมของเมทริกซ์ A และ B\n",
        "และแสดงผลเมทริกซ์ A + B โดย\n",
        "    A = [[1,2,3],[4,5,6],[7,8,9]]  \n",
        "    B = [[22,13,23],[54,43,21],[23,78,71]]\n",
        "Additional requirements\n",
        "ภายในโปรแกรมต้องมีฟังก์ชัน plus_matrix(A,B) ซึ่งรับข้อมูลนำเข้าเป็นลิส 2 มิติขนาดใดๆ และมีข้อมูลนำออกเป็นลิส 2 มิติของผลรวมเมทริกซ์ที่ใส่เข้าไป\n",
        "ภายในโปรแกรมต้องมีฟังก์ชัน print_matrix(A) ซึ่งรับข้อมูลนำเข้าเป็นลิส 2 มิติขนาดใดๆของเมทริกซ์ A และมีข้อมูลนำออกเป็นการพิมพ์เมทริกซ์ A ออกมาในรูปแบบที่สวยงาม โดยใช้คำสั่ง\n",
        " print(f'{A[i][j]:^6}', end = ' ')\n",
        "ในการพิมพ์ตัวเลขในแต่ละตำแหน่ง\n",
        "สำหรับในข้อนี้ ให้ใส่ print_matrix(plus_matrix(A,B)) เอาไว้ในบรรทัสุดท้ายก่อนจบโปรแกรมด้วย\n",
        "Example 1\n",
        "  23     15     26 \n",
        "  58     48     27 \n",
        "  30     86     80 \n",
        "Examples (shell mode)\n",
        ">>> plus_matrix(A,B)\n",
        "[[23, 15, 26], [58, 48, 27], [30, 86, 80]]\n",
        "\n",
        "A = [[1,2,3],[4,5,6],[7,8,9]]\n",
        "B = [[22,13,23],[54,43,21],[23,78,71]]"
      ],
      "metadata": {
        "id": "G2p1Ml-hj1JO"
      }
    },
    {
      "cell_type": "code",
      "execution_count": null,
      "metadata": {
        "id": "lkMQIOnUjtHr"
      },
      "outputs": [],
      "source": [
        "A = [[1,2,3],[4,5,6],[7,8,9]]\n",
        "B = [[22,13,23],[54,43,21],[23,78,71]]\n",
        "def plus_matrix(A,B):\n",
        "    rows = len(A)\n",
        "    cols = len(A[0])\n",
        "    plusmat = []\n",
        "    for row in range(rows):\n",
        "        temp = []\n",
        "        for col in range(cols):\n",
        "            temp.append(A[row][col] + B[row][col])\n",
        "        plusmat.append(temp)\n",
        "    return plusmat\n",
        "\n",
        "def print_matrix(mat):\n",
        "    for row in mat:\n",
        "        for col in row:\n",
        "            print(f'{col:^6}', end = ' ')\n",
        "        print()\n",
        "\n",
        "print_matrix(plus_matrix(A,B))"
      ]
    },
    {
      "cell_type": "markdown",
      "source": [
        "##02 matrix_minus\n",
        "[matrix_minus]\n",
        "จงสร้างฟังก์ชันที่ใช้ดำเนินการเมทริกซ์ กำหนด A และ B เป็นเมทริกซ์ที่อยู่ในรูปลิส 2 มิติ\n",
        "\n",
        "minus_matrix(A,B) # ผลต่างของเมทริกซ์ A และ B\n",
        "และแสดงผลเมทริกซ์ A - B โดย\n",
        "    A = [[1,2,3],[4,5,6],[7,8,9]]  \n",
        "    B = [[22,13,23],[54,43,21],[23,78,71]]\n",
        "Additional requirements\n",
        "ภายในโปรแกรมต้องมีฟังก์ชัน minus_matrix(A,B) ซึ่งรับข้อมูลนำเข้าเป็นลิส 2 มิติของเมทริกซ์ A และ B และมีข้อมูลนำออกเป็นลิส 2 มิติของผลต่างของเมทริกซ์ A และ B\n",
        "ภายในโปรแกรมต้องมีฟังก์ชัน print_matrix(A) ซึ่งรับข้อมูลนำเข้าเป็นลิส 2 มิติของเมทริกซ์ A และมีข้อมูลนำออกเป็นการพิมพ์เมทริกซ์ A ออกมาในรูปแบบที่สวยงาม โดยใช้คำสั่ง\n",
        "print(f'{A[i][j]:^6}', end = ' ')\n",
        "ในการพิมพ์ตัวเลขในแต่ละตำแหน่ง\n",
        "Example 1\n",
        " -21    -11    -20 \n",
        " -50    -38    -15 \n",
        " -16    -70    -62 \n",
        "Examples (shell mode)\n",
        ">>> minus_matrix(A,B)\n",
        "[[-21, -11, -20], [-50, -38, -15], [-16, -70, -62]]"
      ],
      "metadata": {
        "id": "lOK6Q27Pj_TD"
      }
    },
    {
      "cell_type": "code",
      "source": [
        "A = [[1,2,3],[4,5,6],[7,8,9]]\n",
        "B = [[22,13,23],[54,43,21],[23,78,71]]\n",
        "def minus_matrix(A,B):\n",
        "    rows = len(A)\n",
        "    cols = len(A[0])\n",
        "    minusmat = []\n",
        "    for row in range(rows):\n",
        "        temp = []\n",
        "        for col in range(cols):\n",
        "            temp.append(A[row][col] - B[row][col])\n",
        "        minusmat.append(temp)\n",
        "    return minusmat\n",
        "\n",
        "def print_matrix(mat):\n",
        "    for row in mat:\n",
        "        for col in row:\n",
        "            print(f'{col:^6}', end = ' ')\n",
        "        print()\n",
        "\n",
        "print_matrix(minus_matrix(A,B))"
      ],
      "metadata": {
        "id": "NkvoOJVtkD2I"
      },
      "execution_count": null,
      "outputs": []
    },
    {
      "cell_type": "markdown",
      "source": [
        "##03 matrix_mul_const\n",
        "[matrix_MulConst]\n",
        "จงสร้างฟังก์ชันที่ใช้ดำเนินการเมทริกซ์ กำหนด A เป็นเมทริกซ์ที่อยู่ในรูปลิส 2 มิติ และ c แทนค่าคงที่\n",
        "\n",
        "mul_const(A,c) # A คูณค่าคงที่ c\n",
        "และแสดงผลเมทริกซ์ A * c โดย\n",
        "    A = [[1,2],[3,4],[5,6]]  \n",
        "    c = 2\n",
        "Additional requirements\n",
        "ภายในโปรแกรมต้องมีฟังก์ชัน mul_const(A,c) ซึ่งรับข้อมูลนำเข้าเป็นลิส 2 มิติของเมทริกซ์ A และ ค่าคงที่ c และมีข้อมูลนำออกเป็นลิส 2 มิติของเมทริกซ์ A คูณกับค่าคงที่ c\n",
        "ภายในโปรแกรมต้องมีฟังก์ชัน print_matrix(A) ซึ่งรับข้อมูลนำเข้าเป็นลิส 2 มิติของเมทริกซ์ A และมีข้อมูลนำออกเป็นการพิมพ์เมทริกซ์ A ออกมาในรูปแบบที่สวยงาม โดยใช้คำสั่ง\n",
        "print(f'{A[i][j]:^6}', end = ' ')\n",
        "ในการพิมพ์ตัวเลขในแต่ละตำแหน่ง\n",
        "Example 1\n",
        "  2      4  \n",
        "  6      8  \n",
        "  10     12\n",
        "Examples (shell mode)\n",
        ">>> mul_const(A,c)\n",
        "[[2, 4,], [6, 8], [10, 12]]\n",
        "\n",
        "A = [[1,2],[3,4],[5,6]]\n",
        "B = [[7,9,11],[8,10,12]]\n",
        "C = [[13,14],[15,16]]\n",
        "c = 2"
      ],
      "metadata": {
        "id": "4HKHuTKwkFZB"
      }
    },
    {
      "cell_type": "code",
      "source": [
        "A = [[1,2],[3,4],[5,6]]\n",
        "B = [[7,9,11],[8,10,12]]\n",
        "C = [[13,14],[15,16]]\n",
        "c = 2\n",
        "def mul_const(A,c):\n",
        "    rows = len(A)\n",
        "    cols = len(A[0])\n",
        "    mulmat = []\n",
        "    for row in range(rows):\n",
        "        temp = []\n",
        "        for col in range(cols):\n",
        "            temp.append(A[row][col]*c)\n",
        "        mulmat.append(temp)\n",
        "    return mulmat\n",
        "\n",
        "def print_matrix(mat):\n",
        "    for row in mat:\n",
        "        for col in row:\n",
        "            print(f'{col:^6}', end = ' ')\n",
        "        print()\n",
        "\n",
        "print_matrix(mul_const(A,c))"
      ],
      "metadata": {
        "id": "WuyEOTLpkLOt"
      },
      "execution_count": null,
      "outputs": []
    },
    {
      "cell_type": "markdown",
      "source": [
        "##04 matrix_transpose\n",
        "[matrix_transpose]\n",
        "จงสร้างฟังก์ชันที่ใช้ดำเนินการเมทริกซ์ กำหนด A เป็นเมทริกซ์ที่อยู่ในรูปลิส 2 มิติ\n",
        "\n",
        "transpose_matrix(A) # A transpose\n",
        "และแสดงผลเมทริกซ์ A transpose โดย\n",
        "    A = [[1,2],[3,4],[5,6]] \n",
        "Additional requirements\n",
        "ภายในโปรแกรมต้องมีฟังก์ชัน transpose_matrix(A) ซึ่งรับข้อมูลนำเข้าเป็นลิส 2 มิติของเมทริกซ์ A และมีข้อมูลนำออกเป็นลิส 2 มิติของเมทริกซ์ A ที่transposeแล้ว\n",
        "ภายในโปรแกรมต้องมีฟังก์ชัน print_matrix(A) ซึ่งรับข้อมูลนำเข้าเป็นลิส 2 มิติของเมทริกซ์ A และมีข้อมูลนำออกเป็นการพิมพ์เมทริกซ์ A ออกมาในรูปแบบที่สวยงาม โดยใช้คำสั่ง\n",
        "print(f'{A[i][j]:^6}', end = ' ')\n",
        "ในการพิมพ์ตัวเลขในแต่ละตำแหน่ง\n",
        "Example 1\n",
        "  1      3      5  \n",
        "  2      4      6\n",
        "Examples (shell mode)\n",
        ">>> transpose_matrix(A)\n",
        "[[1, 3, 5], [2, 4, 6]]\n",
        "\n"
      ],
      "metadata": {
        "id": "SrKTOawWkNcj"
      }
    },
    {
      "cell_type": "code",
      "source": [
        "A = [[1,2],[3,4],[5,6]]\n",
        "B = [[7,9,11],[8,10,12]]\n",
        "C = [[13,14],[15,16]]\n",
        "c = 2\n",
        "\n",
        "def transpose_matrix(A):\n",
        "    rows = len(A)\n",
        "    cols = len(A[0])\n",
        "    mulmat = []\n",
        "    for col in range(cols):\n",
        "        temp = []\n",
        "        for row in range(rows):\n",
        "            temp.append(A[row][col])\n",
        "        mulmat.append(temp)\n",
        "    return mulmat\n",
        "\n",
        "def print_matrix(mat):\n",
        "    for row in mat:\n",
        "        for col in row:\n",
        "            print(f'{col:^6}', end = ' ')\n",
        "        print()\n",
        "\n",
        "print_matrix(transpose_matrix(A))"
      ],
      "metadata": {
        "id": "9PKlHvmfkSjC"
      },
      "execution_count": null,
      "outputs": []
    },
    {
      "cell_type": "markdown",
      "source": [
        "##05 matrix_mul Result: FAILED [P-P]\n",
        "Result Explanation\n",
        "Test #\tResult\tMeaning\tInput\tHint\n",
        "1\tP\tPassed\t\t\n",
        "2\t-\tFailed\t\tis mul_matrix(A,B) defined?\n",
        "3\tP\tPassed\t\tis print_matrix(A) defined?\n",
        "\n",
        "[matrix_mul]\n",
        "จงสร้างฟังก์ชันที่ใช้ดำเนินการเมทริกซ์ ขนาดใดๆ กำหนด A และ B เป็นเมทริกซ์ที่อยู่ในรูปลิส 2 มิติ\n",
        "\n",
        "mul_matrix(A,B) # ผลคูณของเมทริกซ์ A และ B\n",
        "และแสดงผลเมทริกซ์ A x B โดย\n",
        "    A = [[1,2,3],[4,5,6],[7,8,9]]  \n",
        "    B = [[22,13,23],[54,43,21],[23,78,71]]\n",
        "Additional requirements\n",
        "ภายในโปรแกรมต้องมีฟังก์ชัน mul_matrix(A,B) ซึ่งรับข้อมูลนำเข้าเป็นลิส 2 มิติของ เมทริกซ์ A และ B และมีข้อมูลนำออกเป็นลิส 2 มิติของผลคูณของเมทริกซ์ A และ B\n",
        "ภายในโปรแกรมต้องมีฟังก์ชัน print_matrix(A) ซึ่งรับข้อมูลนำเข้าเป็นลิส 2 มิติของเมทริกซ์ A และมีข้อมูลนำออกเป็นการพิมพ์เมทริกซ์ A ออกมาในรูปแบบที่สวยงาม โดยใช้คำสั่ง\n",
        "print(f'{A[i][j]:^6}', end = ' ')\n",
        "ในการพิมพ์ตัวเลขในแต่ละตำแหน่ง\n",
        "Example 1\n",
        " 199    333    278\n",
        " 496    735    623\n",
        " 793    1137   968\n",
        "Examples (shell mode)\n",
        ">>> mul_matrix(A,B)\n",
        "[[199, 333, 278], [496, 735, 623], [793, 1137, 968]]\n",
        "\n",
        "[hide line #]\n",
        "A = [[1,2,3],[4,5,6],[7,8,9]]\n",
        "B = [[22,13,23],[54,43,21],[23,78,71]]"
      ],
      "metadata": {
        "id": "N15J3tC4kjXa"
      }
    },
    {
      "cell_type": "code",
      "source": [
        "A = [[1,2,3],[4,5,6],[7,8,9]]\n",
        "B = [[22,13,23],[54,43,21],[23,78,71]]\n",
        "\n",
        "import numpy as np\n",
        "\n",
        "def mul_matrix(A,B):\n",
        "    return np.matmul(A,B)\n",
        "\n",
        "def print_matrix(mat):\n",
        "    for row in mat:\n",
        "        for col in row:\n",
        "            print(f'{col:^6}', end = ' ')\n",
        "        print()\n",
        "\n",
        "A = [[1,2,3],[4,5,6],[7,8,9]]\n",
        "B = [[22,13,23],[54,43,21],[23,78,71]]\n",
        "# transpose_matrix(A)\n",
        "print_matrix(mul_matrix(A,B))"
      ],
      "metadata": {
        "id": "zPdzmmj-kjAS"
      },
      "execution_count": null,
      "outputs": []
    },
    {
      "cell_type": "markdown",
      "source": [
        "##06 matrix_power\n",
        "[matrix_power]\n",
        "จงสร้างฟังก์ชันที่ใช้ดำเนินการเมทริกซ์ กำหนด A เป็นเมทริกซ์ที่อยู่ในรูปลิส 2 มิติ และ c แทนค่าคงที่\n",
        "\n",
        "power_matrix(A,c) # A ยกกำลัง c\n",
        "และแสดงผลเมทริกซ์ A ** c โดย\n",
        "    A = [[1,2,3],[4,5,6],[7,8,9]]\n",
        "    c = 2\n",
        "Additional requirements\n",
        "ภายในโปรแกรมต้องมีฟังก์ชัน power_matrix(A,c) ซึ่งรับข้อมูลนำเข้าเป็นลิส 2 มิติของเมทริกซ์ A และ ค่าคงที่ c และมีข้อมูลนำออกเป็นลิส 2 มิติของเมทริกซ์ A ยกกำลัง c\n",
        "ภายในโปรแกรมต้องมีฟังก์ชัน print_matrix(A) ซึ่งรับข้อมูลนำเข้าเป็นลิส 2 มิติของเมทริกซ์ A และมีข้อมูลนำออกเป็นการพิมพ์เมทริกซ์ A ออกมาในรูปแบบที่สวยงาม โดยใช้คำสั่ง\n",
        "print(f'{A[i][j]:^6}', end = ' ')\n",
        "ในการพิมพ์ตัวเลขในแต่ละตำแหน่ง\n",
        "สามารถใช้ความรู้จากข้อ matrix mul มาช่วยได้ เช่น ยกกำลัง 2 = การคูณตัวเองด้วย matrix mul 2 ครั้ง\n",
        "\n",
        "Example 1\n",
        "  30     36     42\n",
        "  66     81     96\n",
        " 102    126    150\n",
        "Examples (shell mode)\n",
        ">>> power_matrix(A,c)\n",
        "[[7, 10,], [15, 22], [23, 24]]\n",
        "\n",
        "[hide line #]\n",
        "A = [[1,2,3],[4,5,6],[7,8,9]]\n",
        "c = 2"
      ],
      "metadata": {
        "id": "lw32gjefk7jh"
      }
    },
    {
      "cell_type": "code",
      "source": [
        "A = [[1,2,3],[4,5,6],[7,8,9]]\n",
        "c = 2\n",
        "def power_matrix(A,c):\n",
        "    result = A\n",
        "    for i in range(c-1):\n",
        "        result = mul_matrix(result, A)\n",
        "    return result\n",
        "\n",
        "def mul_matrix(A,B):\n",
        "    rows = len(A)\n",
        "    cols = len(A[0])\n",
        "    mulmat = []\n",
        "    \n",
        "    for row in range(rows):\n",
        "        temp = []\n",
        "        for k in range(cols):\n",
        "            result = 0\n",
        "            for col in range(cols):\n",
        "                result += A[row][col] * B[col][k]\n",
        "            temp.append(result)\n",
        "        mulmat.append(temp)\n",
        "    return mulmat\n",
        "\n",
        "def print_matrix(mat):\n",
        "    for row in mat:\n",
        "        for col in row:\n",
        "            print(f'{col:^6}', end = ' ')\n",
        "        print()\n",
        "\n",
        "A = [[1,2,3],[4,5,6],[7,8,9]]\n",
        "c = 2\n",
        "\n",
        "print_matrix(power_matrix(A,c))"
      ],
      "metadata": {
        "id": "AWxMNu1olHkU"
      },
      "execution_count": null,
      "outputs": []
    },
    {
      "cell_type": "markdown",
      "source": [
        "##07 matrix_det\n",
        "[matrix_det] ดีเทอร์มิแนนต์\n",
        "ดีเทอมิแนนต์เมทริกซ์ หมายถึง ฟังก์ชันทางเมทริกซ์ที่ให้ปริมาณเป็นสเกลลาร์ ซึ่งสามารถเขียนด้วย det(A) หรือ |A| เมื่อ A เป็นเมทริกซ์ ซึ่งการหาดีเทอร์มิแนนต์เมทริกซ์สามารถอ่านได้ที่ลิงค์link จงเขียนโปรแกรมเพื่อหาดีเทอร์มิแนนซ์ของเมทริกซ์ขนาด 3 x 3\n",
        "\n",
        "Example1\n",
        "Row 1 : 1 2 3\n",
        "Row 2 : 4 5 6\n",
        "Row 3 : 7 8 9\n",
        "0\n",
        "Example2\n",
        "Row 1 : 1 5 3\n",
        "Row 2 : 2 4 7\n",
        "Row 3 : 4 6 2\n",
        "74"
      ],
      "metadata": {
        "id": "etECrHgClMW8"
      }
    },
    {
      "cell_type": "code",
      "source": [
        "import numpy as np\n",
        "\n",
        "row1 = [int(i) for i in input('Row 1 : ').split(\" \")]\n",
        "row2 = [int(i) for i in input('Row 2 : ').split(\" \")]\n",
        "row3 = [int(i) for i in input('Row 3 : ').split(\" \")]\n",
        "\n",
        "a = np.array([row1, row2, row3])\n",
        "print(int(np.linalg.det(a)))"
      ],
      "metadata": {
        "id": "6hKvTMHmlSGa"
      },
      "execution_count": null,
      "outputs": []
    },
    {
      "cell_type": "markdown",
      "source": [
        "##08 matrix_op Result: FAILED [PPP-PP]\n",
        "Result Explanation\n",
        "Test #\tResult\tMeaning\tInput\tHint\n",
        "1\tP\tPassed\t\t\n",
        "2\tP\tPassed\t\t\n",
        "3\tP\tPassed\t\t\n",
        "4\t-\tFailed\t\t\n",
        "5\tP\tPassed\t\t\n",
        "6\tP\tPassed\t\t\n",
        "\n",
        "[matrix_op] การดำเนินการทางเมทริกซ์\n",
        "จงสร้างฟังก์ชันที่ใช้ดำเนินการเมทริกซ์ กำหนด A และ B เป็นเมทริกซ์ที่อยู่ในรูปลิส 2 มิติ\n",
        "\n",
        "transposematrix(A) # transpose เมทริกซ์ A\n",
        "\n",
        "plusmatrix(A,B) # ผลรวมของเมทริกซ์ A และ B\n",
        "\n",
        "minusmatrix(A,B) # ผลต่างของเมทริกซ์ A และ B\n",
        "\n",
        "mulmatrix(A,B) # ผลคูณของเมทริกซ์ A และ B\n",
        "\n",
        "powermatrix(A,c) # A ยกกำลัง c\n",
        "\n",
        "printmatrix(A,B) # แสดงเมทริกซ์ A ออกทางหน้าจอ\n",
        "\n",
        "พร้อมแสดงคำตอบของ\n",
        "\n",
        "\n",
        "Additional requirements\n",
        "ภายในโปรแกรมต้องมีฟังก์ชัน transpose_matrix(A) ซึ่งรับข้อมูลนำเข้าเป็นลิส 2 มิติของเมทริกซ์ A และมีข้อมูลนำออกเป็นลิส 2 มิติของเมทริกซ์ A ที่transposeแล้ว\n",
        "ภายในโปรแกรมต้องมีฟังก์ชัน plus_matrix(A,B) ซึ่งรับข้อมูลนำเข้าเป็นลิส 2 มิติของเมทริกซ์ A และ B และมีข้อมูลนำออกเป็นลิส 2 มิติของผลรวมของเมทริกซ์ A และ B\n",
        "ภายในโปรแกรมต้องมีฟังก์ชัน minus_matrix(A,B) ซึ่งรับข้อมูลนำเข้าเป็นลิส 2 มิติของเมทริกซ์ A และ B และมีข้อมูลนำออกเป็นลิส 2 มิติของผลต่างของเมทริกซ์ A และ B\n",
        "ภายในโปรแกรมต้องมีฟังก์ชัน mul_matrix(A,B) ซึ่งรับข้อมูลนำเข้าเป็นลิส 2 มิติของ เมทริกซ์ A และ B และมีข้อมูลนำออกเป็นผลคูณของลิส 2 มิติของเมทริกซ์ A และ B\n",
        "ภายในโปรแกรมต้องมีฟังก์ชัน power_matrix(A,c) ซึ่งรับข้อมูลนำเข้าเป็นลิส 2 มิติของเมทริกซ์ A และ ค่าคงที่ c และมีข้อมูลนำออกเป็นลิส 2 มิติของเมทริกซ์ A ยกกำลัง c\n",
        "ภายในโปรแกรมต้องมีฟังก์ชัน print_matrix(A) ซึ่งรับข้อมูลนำเข้าเป็นลิส 2 มิติของเมทริกซ์ A และมีข้อมูลนำออกเป็นการพิมพ์เมทริกซ์ A ออกมาในรูปแบบที่สวยงาม โดยใช้คำสั่ง\n",
        "print(f'{A[i][j]:^6}', end = ' ')\n",
        "ในการพิมพ์ตัวเลขในแต่ละตำแหน่ง\n",
        "Example 1\n",
        " 6382   6808\n",
        " 9158   9816\n",
        "11934  12824\n",
        "\n",
        "A = [[1,2],[3,4],[5,6]]\n",
        "B = [[7,9,11],[8,10,12]]\n",
        "C = [[13,14],[15,16]]\n",
        "D = [[100,50],[20,70]]\n",
        "c = 2"
      ],
      "metadata": {
        "id": "4MHExnyKlSwL"
      }
    },
    {
      "cell_type": "code",
      "source": [
        "A = [[1,2],[3,4],[5,6]]\n",
        "B = [[7,9,11],[8,10,12]]\n",
        "C = [[13,14],[15,16]]\n",
        "D = [[100,50],[20,70]]\n",
        "c = 2\n",
        "\n",
        "def transpose_matrix(A):\n",
        "    rows = len(A)\n",
        "    cols = len(A[0])\n",
        "    mulmat = []\n",
        "    for col in range(cols):\n",
        "        temp = []\n",
        "        for row in range(rows):\n",
        "            temp.append(A[row][col])\n",
        "        mulmat.append(temp)\n",
        "    return mulmat\n",
        "\n",
        "def plus_matrix(A,B):\n",
        "    rows = len(A)\n",
        "    cols = len(A[0])\n",
        "    plusmat = []\n",
        "    for row in range(rows):\n",
        "        temp = []\n",
        "        for col in range(cols):\n",
        "            temp.append(A[row][col] + B[row][col])\n",
        "        plusmat.append(temp)\n",
        "    return plusmat\n",
        "\n",
        "def minus_matrix(A,B):\n",
        "    rows = len(A)\n",
        "    cols = len(A[0])\n",
        "    minusmat = []\n",
        "    for row in range(rows):\n",
        "        temp = []\n",
        "        for col in range(cols):\n",
        "            temp.append(A[row][col] - B[row][col])\n",
        "        minusmat.append(temp)\n",
        "    return minusmat\n",
        "\n",
        "def mul_matrix(A,B):\n",
        "    rows = len(A)\n",
        "    cols = len(A[0])\n",
        "    mulmat = []\n",
        "    \n",
        "    for row in range(rows):\n",
        "        temp = []\n",
        "        for k in range(cols):\n",
        "            result = 0\n",
        "            for col in range(cols):\n",
        "                result += A[row][col] * B[col][k]\n",
        "            temp.append(result)\n",
        "        mulmat.append(temp)\n",
        "    return mulmat\n",
        "\n",
        "def power_matrix(A,c):\n",
        "    result = A\n",
        "    for i in range(c-1):\n",
        "        result = mul_matrix(result, A)\n",
        "    return result\n",
        "\n",
        "def print_matrix(mat):\n",
        "    for row in mat:\n",
        "        for col in row:\n",
        "            print(f'{col:^6}', end = ' ')\n",
        "        print()\n",
        "\n",
        "A = [[1,2],[3,4],[5,6]]\n",
        "B = [[7,9,11],[8,10,12]]\n",
        "C = [[13,14],[15,16]]\n",
        "D = [[100,50],[20,70]]\n",
        "c = 2\n",
        "\n",
        "print_matrix(mul_matrix(plus_matrix(A , transpose_matrix(B)) , minus_matrix(power_matrix(C , c) , D)))"
      ],
      "metadata": {
        "id": "SdqQ-xhZlrbd"
      },
      "execution_count": null,
      "outputs": []
    }
  ]
}